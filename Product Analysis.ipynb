{
 "cells": [
  {
   "cell_type": "code",
   "execution_count": 45,
   "metadata": {},
   "outputs": [
    {
     "name": "stdout",
     "output_type": "stream",
     "text": [
      "[('dim_customer',), ('dim_product',), ('fact_pre_discount',), ('fact_manufacturing_cost',), ('fact_gross_price',), ('fact_sales_monthly',)]\n"
     ]
    },
    {
     "data": {
      "text/html": [
       "<div>\n",
       "<style scoped>\n",
       "    .dataframe tbody tr th:only-of-type {\n",
       "        vertical-align: middle;\n",
       "    }\n",
       "\n",
       "    .dataframe tbody tr th {\n",
       "        vertical-align: top;\n",
       "    }\n",
       "\n",
       "    .dataframe thead th {\n",
       "        text-align: right;\n",
       "    }\n",
       "</style>\n",
       "<table border=\"1\" class=\"dataframe\">\n",
       "  <thead>\n",
       "    <tr style=\"text-align: right;\">\n",
       "      <th></th>\n",
       "      <th>customer_code</th>\n",
       "      <th>customer</th>\n",
       "      <th>platform</th>\n",
       "      <th>channel</th>\n",
       "      <th>market</th>\n",
       "      <th>sub_zone</th>\n",
       "      <th>region</th>\n",
       "    </tr>\n",
       "  </thead>\n",
       "  <tbody>\n",
       "    <tr>\n",
       "      <th>0</th>\n",
       "      <td>70002017</td>\n",
       "      <td>Atliq Exclusive</td>\n",
       "      <td>Brick &amp; Mortar</td>\n",
       "      <td>Direct</td>\n",
       "      <td>India</td>\n",
       "      <td>India</td>\n",
       "      <td>APAC</td>\n",
       "    </tr>\n",
       "    <tr>\n",
       "      <th>1</th>\n",
       "      <td>70002018</td>\n",
       "      <td>Atliq e Store</td>\n",
       "      <td>E-Commerce</td>\n",
       "      <td>Direct</td>\n",
       "      <td>India</td>\n",
       "      <td>India</td>\n",
       "      <td>APAC</td>\n",
       "    </tr>\n",
       "    <tr>\n",
       "      <th>2</th>\n",
       "      <td>70003181</td>\n",
       "      <td>Atliq Exclusive</td>\n",
       "      <td>Brick &amp; Mortar</td>\n",
       "      <td>Direct</td>\n",
       "      <td>Indonesia</td>\n",
       "      <td>ROA</td>\n",
       "      <td>APAC</td>\n",
       "    </tr>\n",
       "    <tr>\n",
       "      <th>3</th>\n",
       "      <td>70003182</td>\n",
       "      <td>Atliq e Store</td>\n",
       "      <td>E-Commerce</td>\n",
       "      <td>Direct</td>\n",
       "      <td>Indonesia</td>\n",
       "      <td>ROA</td>\n",
       "      <td>APAC</td>\n",
       "    </tr>\n",
       "    <tr>\n",
       "      <th>4</th>\n",
       "      <td>70004069</td>\n",
       "      <td>Atliq Exclusive</td>\n",
       "      <td>Brick &amp; Mortar</td>\n",
       "      <td>Direct</td>\n",
       "      <td>Japan</td>\n",
       "      <td>ROA</td>\n",
       "      <td>APAC</td>\n",
       "    </tr>\n",
       "  </tbody>\n",
       "</table>\n",
       "</div>"
      ],
      "text/plain": [
       "   customer_code         customer        platform channel     market sub_zone  \\\n",
       "0       70002017  Atliq Exclusive  Brick & Mortar  Direct      India    India   \n",
       "1       70002018    Atliq e Store      E-Commerce  Direct      India    India   \n",
       "2       70003181  Atliq Exclusive  Brick & Mortar  Direct  Indonesia      ROA   \n",
       "3       70003182    Atliq e Store      E-Commerce  Direct  Indonesia      ROA   \n",
       "4       70004069  Atliq Exclusive  Brick & Mortar  Direct      Japan      ROA   \n",
       "\n",
       "  region  \n",
       "0   APAC  \n",
       "1   APAC  \n",
       "2   APAC  \n",
       "3   APAC  \n",
       "4   APAC  "
      ]
     },
     "execution_count": 45,
     "metadata": {},
     "output_type": "execute_result"
    }
   ],
   "source": [
    "### connect to the database\n",
    "import sqlite3\n",
    "import pandas as pd\n",
    "import numpy as np\n",
    "from matplotlib import pyplot as plt\n",
    "import seaborn as sns \n",
    "import plotly.express as px\n",
    "import matplotlib.patches as patches\n",
    "con = sqlite3.connect('/Users/guitarboyrokin/Downloads/atliq_db.sqlite3') #-->specify the path to your \n",
    "#downloaded database just like you read csv files\n",
    "\n",
    "### check all tables in the database\n",
    "cursor = con.cursor()\n",
    "cursor.execute(\"SELECT name FROM sqlite_master WHERE type='table';\")\n",
    "print(cursor.fetchall())\n",
    "\n",
    "### execute simple query in Python with your connection\n",
    "query=\"\"\"Select * from \n",
    "dim_customer\n",
    "LIMIT 10\n",
    "\"\"\"\n",
    "dim_customer=pd.read_sql_query(query, con)\n",
    "dim_customer.head() "
   ]
  },
  {
   "cell_type": "code",
   "execution_count": 46,
   "metadata": {},
   "outputs": [
    {
     "data": {
      "text/html": [
       "<div>\n",
       "<style scoped>\n",
       "    .dataframe tbody tr th:only-of-type {\n",
       "        vertical-align: middle;\n",
       "    }\n",
       "\n",
       "    .dataframe tbody tr th {\n",
       "        vertical-align: top;\n",
       "    }\n",
       "\n",
       "    .dataframe thead th {\n",
       "        text-align: right;\n",
       "    }\n",
       "</style>\n",
       "<table border=\"1\" class=\"dataframe\">\n",
       "  <thead>\n",
       "    <tr style=\"text-align: right;\">\n",
       "      <th></th>\n",
       "      <th>product_code</th>\n",
       "      <th>division</th>\n",
       "      <th>segment</th>\n",
       "      <th>category</th>\n",
       "      <th>product</th>\n",
       "      <th>variant</th>\n",
       "    </tr>\n",
       "  </thead>\n",
       "  <tbody>\n",
       "    <tr>\n",
       "      <th>0</th>\n",
       "      <td>A0118150101</td>\n",
       "      <td>P &amp; A</td>\n",
       "      <td>Peripherals</td>\n",
       "      <td>Internal HDD</td>\n",
       "      <td>AQ Dracula HDD – 3.5 Inch SATA 6 Gb/s 5400 RPM...</td>\n",
       "      <td>Standard</td>\n",
       "    </tr>\n",
       "    <tr>\n",
       "      <th>1</th>\n",
       "      <td>A0118150102</td>\n",
       "      <td>P &amp; A</td>\n",
       "      <td>Peripherals</td>\n",
       "      <td>Internal HDD</td>\n",
       "      <td>AQ Dracula HDD – 3.5 Inch SATA 6 Gb/s 5400 RPM...</td>\n",
       "      <td>Plus</td>\n",
       "    </tr>\n",
       "    <tr>\n",
       "      <th>2</th>\n",
       "      <td>A0118150103</td>\n",
       "      <td>P &amp; A</td>\n",
       "      <td>Peripherals</td>\n",
       "      <td>Internal HDD</td>\n",
       "      <td>AQ Dracula HDD – 3.5 Inch SATA 6 Gb/s 5400 RPM...</td>\n",
       "      <td>Premium</td>\n",
       "    </tr>\n",
       "    <tr>\n",
       "      <th>3</th>\n",
       "      <td>A0118150104</td>\n",
       "      <td>P &amp; A</td>\n",
       "      <td>Peripherals</td>\n",
       "      <td>Internal HDD</td>\n",
       "      <td>AQ Dracula HDD – 3.5 Inch SATA 6 Gb/s 5400 RPM...</td>\n",
       "      <td>Premium Plus</td>\n",
       "    </tr>\n",
       "    <tr>\n",
       "      <th>4</th>\n",
       "      <td>A0219150201</td>\n",
       "      <td>P &amp; A</td>\n",
       "      <td>Peripherals</td>\n",
       "      <td>Internal HDD</td>\n",
       "      <td>AQ WereWolf NAS Internal Hard Drive HDD – 8.89 cm</td>\n",
       "      <td>Standard</td>\n",
       "    </tr>\n",
       "    <tr>\n",
       "      <th>5</th>\n",
       "      <td>A0219150202</td>\n",
       "      <td>P &amp; A</td>\n",
       "      <td>Peripherals</td>\n",
       "      <td>Internal HDD</td>\n",
       "      <td>AQ WereWolf NAS Internal Hard Drive HDD – 8.89 cm</td>\n",
       "      <td>Plus</td>\n",
       "    </tr>\n",
       "    <tr>\n",
       "      <th>6</th>\n",
       "      <td>A0220150203</td>\n",
       "      <td>P &amp; A</td>\n",
       "      <td>Peripherals</td>\n",
       "      <td>Internal HDD</td>\n",
       "      <td>AQ WereWolf NAS Internal Hard Drive HDD – 8.89 cm</td>\n",
       "      <td>Premium</td>\n",
       "    </tr>\n",
       "    <tr>\n",
       "      <th>7</th>\n",
       "      <td>A0320150301</td>\n",
       "      <td>P &amp; A</td>\n",
       "      <td>Peripherals</td>\n",
       "      <td>Internal HDD</td>\n",
       "      <td>AQ Zion Saga</td>\n",
       "      <td>Standard</td>\n",
       "    </tr>\n",
       "    <tr>\n",
       "      <th>8</th>\n",
       "      <td>A0321150302</td>\n",
       "      <td>P &amp; A</td>\n",
       "      <td>Peripherals</td>\n",
       "      <td>Internal HDD</td>\n",
       "      <td>AQ Zion Saga</td>\n",
       "      <td>Plus</td>\n",
       "    </tr>\n",
       "    <tr>\n",
       "      <th>9</th>\n",
       "      <td>A0321150303</td>\n",
       "      <td>P &amp; A</td>\n",
       "      <td>Peripherals</td>\n",
       "      <td>Internal HDD</td>\n",
       "      <td>AQ Zion Saga</td>\n",
       "      <td>Premium</td>\n",
       "    </tr>\n",
       "    <tr>\n",
       "      <th>10</th>\n",
       "      <td>A0418150101</td>\n",
       "      <td>P &amp; A</td>\n",
       "      <td>Peripherals</td>\n",
       "      <td>Graphic Card</td>\n",
       "      <td>AQ Mforce Gen X</td>\n",
       "      <td>Standard 1</td>\n",
       "    </tr>\n",
       "    <tr>\n",
       "      <th>11</th>\n",
       "      <td>A0418150102</td>\n",
       "      <td>P &amp; A</td>\n",
       "      <td>Peripherals</td>\n",
       "      <td>Graphic Card</td>\n",
       "      <td>AQ Mforce Gen X</td>\n",
       "      <td>Standard 2</td>\n",
       "    </tr>\n",
       "    <tr>\n",
       "      <th>12</th>\n",
       "      <td>A0418150103</td>\n",
       "      <td>P &amp; A</td>\n",
       "      <td>Peripherals</td>\n",
       "      <td>Graphic Card</td>\n",
       "      <td>AQ Mforce Gen X</td>\n",
       "      <td>Standard 3</td>\n",
       "    </tr>\n",
       "    <tr>\n",
       "      <th>13</th>\n",
       "      <td>A0418150104</td>\n",
       "      <td>P &amp; A</td>\n",
       "      <td>Peripherals</td>\n",
       "      <td>Graphic Card</td>\n",
       "      <td>AQ Mforce Gen X</td>\n",
       "      <td>Plus 1</td>\n",
       "    </tr>\n",
       "    <tr>\n",
       "      <th>14</th>\n",
       "      <td>A0418150105</td>\n",
       "      <td>P &amp; A</td>\n",
       "      <td>Peripherals</td>\n",
       "      <td>Graphic Card</td>\n",
       "      <td>AQ Mforce Gen X</td>\n",
       "      <td>Plus 2</td>\n",
       "    </tr>\n",
       "  </tbody>\n",
       "</table>\n",
       "</div>"
      ],
      "text/plain": [
       "   product_code division      segment      category  \\\n",
       "0   A0118150101    P & A  Peripherals  Internal HDD   \n",
       "1   A0118150102    P & A  Peripherals  Internal HDD   \n",
       "2   A0118150103    P & A  Peripherals  Internal HDD   \n",
       "3   A0118150104    P & A  Peripherals  Internal HDD   \n",
       "4   A0219150201    P & A  Peripherals  Internal HDD   \n",
       "5   A0219150202    P & A  Peripherals  Internal HDD   \n",
       "6   A0220150203    P & A  Peripherals  Internal HDD   \n",
       "7   A0320150301    P & A  Peripherals  Internal HDD   \n",
       "8   A0321150302    P & A  Peripherals  Internal HDD   \n",
       "9   A0321150303    P & A  Peripherals  Internal HDD   \n",
       "10  A0418150101    P & A  Peripherals  Graphic Card   \n",
       "11  A0418150102    P & A  Peripherals  Graphic Card   \n",
       "12  A0418150103    P & A  Peripherals  Graphic Card   \n",
       "13  A0418150104    P & A  Peripherals  Graphic Card   \n",
       "14  A0418150105    P & A  Peripherals  Graphic Card   \n",
       "\n",
       "                                              product       variant  \n",
       "0   AQ Dracula HDD – 3.5 Inch SATA 6 Gb/s 5400 RPM...      Standard  \n",
       "1   AQ Dracula HDD – 3.5 Inch SATA 6 Gb/s 5400 RPM...          Plus  \n",
       "2   AQ Dracula HDD – 3.5 Inch SATA 6 Gb/s 5400 RPM...       Premium  \n",
       "3   AQ Dracula HDD – 3.5 Inch SATA 6 Gb/s 5400 RPM...  Premium Plus  \n",
       "4   AQ WereWolf NAS Internal Hard Drive HDD – 8.89 cm      Standard  \n",
       "5   AQ WereWolf NAS Internal Hard Drive HDD – 8.89 cm          Plus  \n",
       "6   AQ WereWolf NAS Internal Hard Drive HDD – 8.89 cm       Premium  \n",
       "7                                        AQ Zion Saga      Standard  \n",
       "8                                        AQ Zion Saga          Plus  \n",
       "9                                        AQ Zion Saga       Premium  \n",
       "10                                    AQ Mforce Gen X    Standard 1  \n",
       "11                                    AQ Mforce Gen X    Standard 2  \n",
       "12                                    AQ Mforce Gen X    Standard 3  \n",
       "13                                    AQ Mforce Gen X        Plus 1  \n",
       "14                                    AQ Mforce Gen X        Plus 2  "
      ]
     },
     "execution_count": 46,
     "metadata": {},
     "output_type": "execute_result"
    }
   ],
   "source": [
    "query = \"\"\"Select * from\n",
    "dim_product\n",
    "\"\"\"\n",
    "dim_product = pd.read_sql_query(query, con)\n",
    "dim_product.head(15)"
   ]
  },
  {
   "cell_type": "code",
   "execution_count": 47,
   "metadata": {},
   "outputs": [
    {
     "name": "stdout",
     "output_type": "stream",
     "text": [
      "<class 'pandas.core.frame.DataFrame'>\n",
      "RangeIndex: 397 entries, 0 to 396\n",
      "Data columns (total 6 columns):\n",
      " #   Column        Non-Null Count  Dtype \n",
      "---  ------        --------------  ----- \n",
      " 0   product_code  397 non-null    object\n",
      " 1   division      397 non-null    object\n",
      " 2   segment       397 non-null    object\n",
      " 3   category      397 non-null    object\n",
      " 4   product       397 non-null    object\n",
      " 5   variant       397 non-null    object\n",
      "dtypes: object(6)\n",
      "memory usage: 18.7+ KB\n"
     ]
    }
   ],
   "source": [
    "dim_product.info()"
   ]
  },
  {
   "cell_type": "code",
   "execution_count": 48,
   "metadata": {},
   "outputs": [
    {
     "data": {
      "text/html": [
       "<div>\n",
       "<style scoped>\n",
       "    .dataframe tbody tr th:only-of-type {\n",
       "        vertical-align: middle;\n",
       "    }\n",
       "\n",
       "    .dataframe tbody tr th {\n",
       "        vertical-align: top;\n",
       "    }\n",
       "\n",
       "    .dataframe thead th {\n",
       "        text-align: right;\n",
       "    }\n",
       "</style>\n",
       "<table border=\"1\" class=\"dataframe\">\n",
       "  <thead>\n",
       "    <tr style=\"text-align: right;\">\n",
       "      <th></th>\n",
       "      <th>product_code</th>\n",
       "      <th>fiscal_year</th>\n",
       "      <th>gross_price</th>\n",
       "    </tr>\n",
       "  </thead>\n",
       "  <tbody>\n",
       "    <tr>\n",
       "      <th>0</th>\n",
       "      <td>A0118150101</td>\n",
       "      <td>2018</td>\n",
       "      <td>15.3952</td>\n",
       "    </tr>\n",
       "    <tr>\n",
       "      <th>1</th>\n",
       "      <td>A0118150101</td>\n",
       "      <td>2019</td>\n",
       "      <td>14.4392</td>\n",
       "    </tr>\n",
       "    <tr>\n",
       "      <th>2</th>\n",
       "      <td>A0118150101</td>\n",
       "      <td>2020</td>\n",
       "      <td>16.2323</td>\n",
       "    </tr>\n",
       "    <tr>\n",
       "      <th>3</th>\n",
       "      <td>A0118150101</td>\n",
       "      <td>2021</td>\n",
       "      <td>19.0573</td>\n",
       "    </tr>\n",
       "    <tr>\n",
       "      <th>4</th>\n",
       "      <td>A0118150102</td>\n",
       "      <td>2018</td>\n",
       "      <td>19.5875</td>\n",
       "    </tr>\n",
       "    <tr>\n",
       "      <th>5</th>\n",
       "      <td>A0118150102</td>\n",
       "      <td>2019</td>\n",
       "      <td>18.5595</td>\n",
       "    </tr>\n",
       "    <tr>\n",
       "      <th>6</th>\n",
       "      <td>A0118150102</td>\n",
       "      <td>2020</td>\n",
       "      <td>19.8577</td>\n",
       "    </tr>\n",
       "    <tr>\n",
       "      <th>7</th>\n",
       "      <td>A0118150102</td>\n",
       "      <td>2021</td>\n",
       "      <td>21.4565</td>\n",
       "    </tr>\n",
       "    <tr>\n",
       "      <th>8</th>\n",
       "      <td>A0118150103</td>\n",
       "      <td>2018</td>\n",
       "      <td>19.3630</td>\n",
       "    </tr>\n",
       "    <tr>\n",
       "      <th>9</th>\n",
       "      <td>A0118150103</td>\n",
       "      <td>2019</td>\n",
       "      <td>19.3442</td>\n",
       "    </tr>\n",
       "    <tr>\n",
       "      <th>10</th>\n",
       "      <td>A0118150103</td>\n",
       "      <td>2020</td>\n",
       "      <td>22.1317</td>\n",
       "    </tr>\n",
       "    <tr>\n",
       "      <th>11</th>\n",
       "      <td>A0118150103</td>\n",
       "      <td>2021</td>\n",
       "      <td>21.7795</td>\n",
       "    </tr>\n",
       "    <tr>\n",
       "      <th>12</th>\n",
       "      <td>A0118150103</td>\n",
       "      <td>2022</td>\n",
       "      <td>23.9920</td>\n",
       "    </tr>\n",
       "    <tr>\n",
       "      <th>13</th>\n",
       "      <td>A0118150104</td>\n",
       "      <td>2018</td>\n",
       "      <td>19.5743</td>\n",
       "    </tr>\n",
       "    <tr>\n",
       "      <th>14</th>\n",
       "      <td>A0118150104</td>\n",
       "      <td>2019</td>\n",
       "      <td>18.5072</td>\n",
       "    </tr>\n",
       "  </tbody>\n",
       "</table>\n",
       "</div>"
      ],
      "text/plain": [
       "   product_code  fiscal_year  gross_price\n",
       "0   A0118150101         2018      15.3952\n",
       "1   A0118150101         2019      14.4392\n",
       "2   A0118150101         2020      16.2323\n",
       "3   A0118150101         2021      19.0573\n",
       "4   A0118150102         2018      19.5875\n",
       "5   A0118150102         2019      18.5595\n",
       "6   A0118150102         2020      19.8577\n",
       "7   A0118150102         2021      21.4565\n",
       "8   A0118150103         2018      19.3630\n",
       "9   A0118150103         2019      19.3442\n",
       "10  A0118150103         2020      22.1317\n",
       "11  A0118150103         2021      21.7795\n",
       "12  A0118150103         2022      23.9920\n",
       "13  A0118150104         2018      19.5743\n",
       "14  A0118150104         2019      18.5072"
      ]
     },
     "execution_count": 48,
     "metadata": {},
     "output_type": "execute_result"
    }
   ],
   "source": [
    "query = \"\"\"Select * \n",
    "from fact_gross_price\n",
    "\"\"\"\n",
    "fact_gross_price = pd.read_sql_query(query, con)\n",
    "fact_gross_price.head(15)"
   ]
  },
  {
   "cell_type": "code",
   "execution_count": 49,
   "metadata": {},
   "outputs": [
    {
     "name": "stdout",
     "output_type": "stream",
     "text": [
      "<class 'pandas.core.frame.DataFrame'>\n",
      "RangeIndex: 1182 entries, 0 to 1181\n",
      "Data columns (total 3 columns):\n",
      " #   Column        Non-Null Count  Dtype  \n",
      "---  ------        --------------  -----  \n",
      " 0   product_code  1182 non-null   object \n",
      " 1   fiscal_year   1182 non-null   int64  \n",
      " 2   gross_price   1182 non-null   float64\n",
      "dtypes: float64(1), int64(1), object(1)\n",
      "memory usage: 27.8+ KB\n"
     ]
    }
   ],
   "source": [
    "fact_gross_price.info()"
   ]
  },
  {
   "cell_type": "code",
   "execution_count": 50,
   "metadata": {},
   "outputs": [
    {
     "data": {
      "text/html": [
       "<div>\n",
       "<style scoped>\n",
       "    .dataframe tbody tr th:only-of-type {\n",
       "        vertical-align: middle;\n",
       "    }\n",
       "\n",
       "    .dataframe tbody tr th {\n",
       "        vertical-align: top;\n",
       "    }\n",
       "\n",
       "    .dataframe thead th {\n",
       "        text-align: right;\n",
       "    }\n",
       "</style>\n",
       "<table border=\"1\" class=\"dataframe\">\n",
       "  <thead>\n",
       "    <tr style=\"text-align: right;\">\n",
       "      <th></th>\n",
       "      <th>product_code</th>\n",
       "      <th>cost_year</th>\n",
       "      <th>manufacturing_cost</th>\n",
       "    </tr>\n",
       "  </thead>\n",
       "  <tbody>\n",
       "    <tr>\n",
       "      <th>0</th>\n",
       "      <td>A0118150101</td>\n",
       "      <td>2018</td>\n",
       "      <td>4.6190</td>\n",
       "    </tr>\n",
       "    <tr>\n",
       "      <th>1</th>\n",
       "      <td>A0118150101</td>\n",
       "      <td>2019</td>\n",
       "      <td>4.2033</td>\n",
       "    </tr>\n",
       "    <tr>\n",
       "      <th>2</th>\n",
       "      <td>A0118150101</td>\n",
       "      <td>2020</td>\n",
       "      <td>5.0207</td>\n",
       "    </tr>\n",
       "    <tr>\n",
       "      <th>3</th>\n",
       "      <td>A0118150101</td>\n",
       "      <td>2021</td>\n",
       "      <td>5.5172</td>\n",
       "    </tr>\n",
       "    <tr>\n",
       "      <th>4</th>\n",
       "      <td>A0118150102</td>\n",
       "      <td>2018</td>\n",
       "      <td>5.6036</td>\n",
       "    </tr>\n",
       "    <tr>\n",
       "      <th>5</th>\n",
       "      <td>A0118150102</td>\n",
       "      <td>2019</td>\n",
       "      <td>5.3235</td>\n",
       "    </tr>\n",
       "    <tr>\n",
       "      <th>6</th>\n",
       "      <td>A0118150102</td>\n",
       "      <td>2020</td>\n",
       "      <td>5.7180</td>\n",
       "    </tr>\n",
       "    <tr>\n",
       "      <th>7</th>\n",
       "      <td>A0118150102</td>\n",
       "      <td>2021</td>\n",
       "      <td>6.2835</td>\n",
       "    </tr>\n",
       "    <tr>\n",
       "      <th>8</th>\n",
       "      <td>A0118150103</td>\n",
       "      <td>2018</td>\n",
       "      <td>5.9469</td>\n",
       "    </tr>\n",
       "    <tr>\n",
       "      <th>9</th>\n",
       "      <td>A0118150103</td>\n",
       "      <td>2019</td>\n",
       "      <td>5.5306</td>\n",
       "    </tr>\n",
       "    <tr>\n",
       "      <th>10</th>\n",
       "      <td>A0118150103</td>\n",
       "      <td>2020</td>\n",
       "      <td>6.3264</td>\n",
       "    </tr>\n",
       "    <tr>\n",
       "      <th>11</th>\n",
       "      <td>A0118150103</td>\n",
       "      <td>2021</td>\n",
       "      <td>6.5900</td>\n",
       "    </tr>\n",
       "    <tr>\n",
       "      <th>12</th>\n",
       "      <td>A0118150103</td>\n",
       "      <td>2022</td>\n",
       "      <td>7.1831</td>\n",
       "    </tr>\n",
       "    <tr>\n",
       "      <th>13</th>\n",
       "      <td>A0118150104</td>\n",
       "      <td>2018</td>\n",
       "      <td>5.8958</td>\n",
       "    </tr>\n",
       "    <tr>\n",
       "      <th>14</th>\n",
       "      <td>A0118150104</td>\n",
       "      <td>2019</td>\n",
       "      <td>5.4242</td>\n",
       "    </tr>\n",
       "  </tbody>\n",
       "</table>\n",
       "</div>"
      ],
      "text/plain": [
       "   product_code  cost_year  manufacturing_cost\n",
       "0   A0118150101       2018              4.6190\n",
       "1   A0118150101       2019              4.2033\n",
       "2   A0118150101       2020              5.0207\n",
       "3   A0118150101       2021              5.5172\n",
       "4   A0118150102       2018              5.6036\n",
       "5   A0118150102       2019              5.3235\n",
       "6   A0118150102       2020              5.7180\n",
       "7   A0118150102       2021              6.2835\n",
       "8   A0118150103       2018              5.9469\n",
       "9   A0118150103       2019              5.5306\n",
       "10  A0118150103       2020              6.3264\n",
       "11  A0118150103       2021              6.5900\n",
       "12  A0118150103       2022              7.1831\n",
       "13  A0118150104       2018              5.8958\n",
       "14  A0118150104       2019              5.4242"
      ]
     },
     "execution_count": 50,
     "metadata": {},
     "output_type": "execute_result"
    }
   ],
   "source": [
    "query = \"\"\"Select * from\n",
    "fact_manufacturing_cost\n",
    "\"\"\"\n",
    "fact_manufacturing_cost = pd.read_sql_query(query, con)\n",
    "fact_manufacturing_cost.head(15)\n"
   ]
  },
  {
   "cell_type": "code",
   "execution_count": 51,
   "metadata": {},
   "outputs": [
    {
     "name": "stdout",
     "output_type": "stream",
     "text": [
      "<class 'pandas.core.frame.DataFrame'>\n",
      "RangeIndex: 1182 entries, 0 to 1181\n",
      "Data columns (total 3 columns):\n",
      " #   Column              Non-Null Count  Dtype  \n",
      "---  ------              --------------  -----  \n",
      " 0   product_code        1182 non-null   object \n",
      " 1   cost_year           1182 non-null   int64  \n",
      " 2   manufacturing_cost  1182 non-null   float64\n",
      "dtypes: float64(1), int64(1), object(1)\n",
      "memory usage: 27.8+ KB\n"
     ]
    }
   ],
   "source": [
    "fact_manufacturing_cost.info()"
   ]
  },
  {
   "cell_type": "code",
   "execution_count": 52,
   "metadata": {},
   "outputs": [
    {
     "data": {
      "text/html": [
       "<div>\n",
       "<style scoped>\n",
       "    .dataframe tbody tr th:only-of-type {\n",
       "        vertical-align: middle;\n",
       "    }\n",
       "\n",
       "    .dataframe tbody tr th {\n",
       "        vertical-align: top;\n",
       "    }\n",
       "\n",
       "    .dataframe thead th {\n",
       "        text-align: right;\n",
       "    }\n",
       "</style>\n",
       "<table border=\"1\" class=\"dataframe\">\n",
       "  <thead>\n",
       "    <tr style=\"text-align: right;\">\n",
       "      <th></th>\n",
       "      <th>product_code</th>\n",
       "      <th>fiscal_year</th>\n",
       "      <th>gross_price</th>\n",
       "      <th>cost_year</th>\n",
       "      <th>manufacturing_cost</th>\n",
       "    </tr>\n",
       "  </thead>\n",
       "  <tbody>\n",
       "    <tr>\n",
       "      <th>0</th>\n",
       "      <td>A0118150101</td>\n",
       "      <td>2018</td>\n",
       "      <td>15.3952</td>\n",
       "      <td>2018</td>\n",
       "      <td>4.6190</td>\n",
       "    </tr>\n",
       "    <tr>\n",
       "      <th>1</th>\n",
       "      <td>A0118150101</td>\n",
       "      <td>2018</td>\n",
       "      <td>15.3952</td>\n",
       "      <td>2019</td>\n",
       "      <td>4.2033</td>\n",
       "    </tr>\n",
       "    <tr>\n",
       "      <th>2</th>\n",
       "      <td>A0118150101</td>\n",
       "      <td>2018</td>\n",
       "      <td>15.3952</td>\n",
       "      <td>2020</td>\n",
       "      <td>5.0207</td>\n",
       "    </tr>\n",
       "    <tr>\n",
       "      <th>3</th>\n",
       "      <td>A0118150101</td>\n",
       "      <td>2018</td>\n",
       "      <td>15.3952</td>\n",
       "      <td>2021</td>\n",
       "      <td>5.5172</td>\n",
       "    </tr>\n",
       "    <tr>\n",
       "      <th>4</th>\n",
       "      <td>A0118150101</td>\n",
       "      <td>2019</td>\n",
       "      <td>14.4392</td>\n",
       "      <td>2018</td>\n",
       "      <td>4.6190</td>\n",
       "    </tr>\n",
       "    <tr>\n",
       "      <th>...</th>\n",
       "      <td>...</td>\n",
       "      <td>...</td>\n",
       "      <td>...</td>\n",
       "      <td>...</td>\n",
       "      <td>...</td>\n",
       "    </tr>\n",
       "    <tr>\n",
       "      <th>4197</th>\n",
       "      <td>A7321160302</td>\n",
       "      <td>2022</td>\n",
       "      <td>46.0399</td>\n",
       "      <td>2022</td>\n",
       "      <td>13.1954</td>\n",
       "    </tr>\n",
       "    <tr>\n",
       "      <th>4198</th>\n",
       "      <td>A7321160303</td>\n",
       "      <td>2021</td>\n",
       "      <td>42.8483</td>\n",
       "      <td>2021</td>\n",
       "      <td>12.9502</td>\n",
       "    </tr>\n",
       "    <tr>\n",
       "      <th>4199</th>\n",
       "      <td>A7321160303</td>\n",
       "      <td>2021</td>\n",
       "      <td>42.8483</td>\n",
       "      <td>2022</td>\n",
       "      <td>13.3387</td>\n",
       "    </tr>\n",
       "    <tr>\n",
       "      <th>4200</th>\n",
       "      <td>A7321160303</td>\n",
       "      <td>2022</td>\n",
       "      <td>43.5559</td>\n",
       "      <td>2021</td>\n",
       "      <td>12.9502</td>\n",
       "    </tr>\n",
       "    <tr>\n",
       "      <th>4201</th>\n",
       "      <td>A7321160303</td>\n",
       "      <td>2022</td>\n",
       "      <td>43.5559</td>\n",
       "      <td>2022</td>\n",
       "      <td>13.3387</td>\n",
       "    </tr>\n",
       "  </tbody>\n",
       "</table>\n",
       "<p>4202 rows × 5 columns</p>\n",
       "</div>"
      ],
      "text/plain": [
       "     product_code  fiscal_year  gross_price  cost_year  manufacturing_cost\n",
       "0     A0118150101         2018      15.3952       2018              4.6190\n",
       "1     A0118150101         2018      15.3952       2019              4.2033\n",
       "2     A0118150101         2018      15.3952       2020              5.0207\n",
       "3     A0118150101         2018      15.3952       2021              5.5172\n",
       "4     A0118150101         2019      14.4392       2018              4.6190\n",
       "...           ...          ...          ...        ...                 ...\n",
       "4197  A7321160302         2022      46.0399       2022             13.1954\n",
       "4198  A7321160303         2021      42.8483       2021             12.9502\n",
       "4199  A7321160303         2021      42.8483       2022             13.3387\n",
       "4200  A7321160303         2022      43.5559       2021             12.9502\n",
       "4201  A7321160303         2022      43.5559       2022             13.3387\n",
       "\n",
       "[4202 rows x 5 columns]"
      ]
     },
     "execution_count": 52,
     "metadata": {},
     "output_type": "execute_result"
    }
   ],
   "source": [
    "total_price = fact_gross_price.merge(fact_manufacturing_cost, how='left', on = 'product_code')\n",
    "total_price"
   ]
  },
  {
   "cell_type": "code",
   "execution_count": 53,
   "metadata": {},
   "outputs": [
    {
     "data": {
      "text/html": [
       "<div>\n",
       "<style scoped>\n",
       "    .dataframe tbody tr th:only-of-type {\n",
       "        vertical-align: middle;\n",
       "    }\n",
       "\n",
       "    .dataframe tbody tr th {\n",
       "        vertical-align: top;\n",
       "    }\n",
       "\n",
       "    .dataframe thead th {\n",
       "        text-align: right;\n",
       "    }\n",
       "</style>\n",
       "<table border=\"1\" class=\"dataframe\">\n",
       "  <thead>\n",
       "    <tr style=\"text-align: right;\">\n",
       "      <th></th>\n",
       "      <th>product_code</th>\n",
       "      <th>fiscal_year</th>\n",
       "      <th>gross_price</th>\n",
       "      <th>cost_year</th>\n",
       "      <th>manufacturing_cost</th>\n",
       "      <th>gross_margin</th>\n",
       "    </tr>\n",
       "  </thead>\n",
       "  <tbody>\n",
       "    <tr>\n",
       "      <th>0</th>\n",
       "      <td>A0118150101</td>\n",
       "      <td>2018</td>\n",
       "      <td>15.3952</td>\n",
       "      <td>2018</td>\n",
       "      <td>4.6190</td>\n",
       "      <td>69.997142</td>\n",
       "    </tr>\n",
       "    <tr>\n",
       "      <th>1</th>\n",
       "      <td>A0118150101</td>\n",
       "      <td>2018</td>\n",
       "      <td>15.3952</td>\n",
       "      <td>2019</td>\n",
       "      <td>4.2033</td>\n",
       "      <td>72.697334</td>\n",
       "    </tr>\n",
       "    <tr>\n",
       "      <th>2</th>\n",
       "      <td>A0118150101</td>\n",
       "      <td>2018</td>\n",
       "      <td>15.3952</td>\n",
       "      <td>2020</td>\n",
       "      <td>5.0207</td>\n",
       "      <td>67.387887</td>\n",
       "    </tr>\n",
       "    <tr>\n",
       "      <th>3</th>\n",
       "      <td>A0118150101</td>\n",
       "      <td>2018</td>\n",
       "      <td>15.3952</td>\n",
       "      <td>2021</td>\n",
       "      <td>5.5172</td>\n",
       "      <td>64.162856</td>\n",
       "    </tr>\n",
       "    <tr>\n",
       "      <th>4</th>\n",
       "      <td>A0118150101</td>\n",
       "      <td>2019</td>\n",
       "      <td>14.4392</td>\n",
       "      <td>2018</td>\n",
       "      <td>4.6190</td>\n",
       "      <td>68.010693</td>\n",
       "    </tr>\n",
       "    <tr>\n",
       "      <th>...</th>\n",
       "      <td>...</td>\n",
       "      <td>...</td>\n",
       "      <td>...</td>\n",
       "      <td>...</td>\n",
       "      <td>...</td>\n",
       "      <td>...</td>\n",
       "    </tr>\n",
       "    <tr>\n",
       "      <th>4197</th>\n",
       "      <td>A7321160302</td>\n",
       "      <td>2022</td>\n",
       "      <td>46.0399</td>\n",
       "      <td>2022</td>\n",
       "      <td>13.1954</td>\n",
       "      <td>71.339208</td>\n",
       "    </tr>\n",
       "    <tr>\n",
       "      <th>4198</th>\n",
       "      <td>A7321160303</td>\n",
       "      <td>2021</td>\n",
       "      <td>42.8483</td>\n",
       "      <td>2021</td>\n",
       "      <td>12.9502</td>\n",
       "      <td>69.776631</td>\n",
       "    </tr>\n",
       "    <tr>\n",
       "      <th>4199</th>\n",
       "      <td>A7321160303</td>\n",
       "      <td>2021</td>\n",
       "      <td>42.8483</td>\n",
       "      <td>2022</td>\n",
       "      <td>13.3387</td>\n",
       "      <td>68.869943</td>\n",
       "    </tr>\n",
       "    <tr>\n",
       "      <th>4200</th>\n",
       "      <td>A7321160303</td>\n",
       "      <td>2022</td>\n",
       "      <td>43.5559</td>\n",
       "      <td>2021</td>\n",
       "      <td>12.9502</td>\n",
       "      <td>70.267633</td>\n",
       "    </tr>\n",
       "    <tr>\n",
       "      <th>4201</th>\n",
       "      <td>A7321160303</td>\n",
       "      <td>2022</td>\n",
       "      <td>43.5559</td>\n",
       "      <td>2022</td>\n",
       "      <td>13.3387</td>\n",
       "      <td>69.375676</td>\n",
       "    </tr>\n",
       "  </tbody>\n",
       "</table>\n",
       "<p>4202 rows × 6 columns</p>\n",
       "</div>"
      ],
      "text/plain": [
       "     product_code  fiscal_year  gross_price  cost_year  manufacturing_cost  \\\n",
       "0     A0118150101         2018      15.3952       2018              4.6190   \n",
       "1     A0118150101         2018      15.3952       2019              4.2033   \n",
       "2     A0118150101         2018      15.3952       2020              5.0207   \n",
       "3     A0118150101         2018      15.3952       2021              5.5172   \n",
       "4     A0118150101         2019      14.4392       2018              4.6190   \n",
       "...           ...          ...          ...        ...                 ...   \n",
       "4197  A7321160302         2022      46.0399       2022             13.1954   \n",
       "4198  A7321160303         2021      42.8483       2021             12.9502   \n",
       "4199  A7321160303         2021      42.8483       2022             13.3387   \n",
       "4200  A7321160303         2022      43.5559       2021             12.9502   \n",
       "4201  A7321160303         2022      43.5559       2022             13.3387   \n",
       "\n",
       "      gross_margin  \n",
       "0        69.997142  \n",
       "1        72.697334  \n",
       "2        67.387887  \n",
       "3        64.162856  \n",
       "4        68.010693  \n",
       "...            ...  \n",
       "4197     71.339208  \n",
       "4198     69.776631  \n",
       "4199     68.869943  \n",
       "4200     70.267633  \n",
       "4201     69.375676  \n",
       "\n",
       "[4202 rows x 6 columns]"
      ]
     },
     "execution_count": 53,
     "metadata": {},
     "output_type": "execute_result"
    }
   ],
   "source": [
    "total_price['gross_margin'] = ((total_price['gross_price'] - total_price['manufacturing_cost']) / total_price['gross_price'] * 100)\n",
    "total_price"
   ]
  },
  {
   "cell_type": "code",
   "execution_count": 54,
   "metadata": {},
   "outputs": [
    {
     "data": {
      "text/html": [
       "<div>\n",
       "<style scoped>\n",
       "    .dataframe tbody tr th:only-of-type {\n",
       "        vertical-align: middle;\n",
       "    }\n",
       "\n",
       "    .dataframe tbody tr th {\n",
       "        vertical-align: top;\n",
       "    }\n",
       "\n",
       "    .dataframe thead th {\n",
       "        text-align: right;\n",
       "    }\n",
       "</style>\n",
       "<table border=\"1\" class=\"dataframe\">\n",
       "  <thead>\n",
       "    <tr style=\"text-align: right;\">\n",
       "      <th></th>\n",
       "      <th>date</th>\n",
       "      <th>product_code</th>\n",
       "      <th>customer_code</th>\n",
       "      <th>sold_quantity</th>\n",
       "      <th>fiscal_year</th>\n",
       "    </tr>\n",
       "  </thead>\n",
       "  <tbody>\n",
       "    <tr>\n",
       "      <th>0</th>\n",
       "      <td>2017-09-01</td>\n",
       "      <td>A0118150101</td>\n",
       "      <td>70002017.0</td>\n",
       "      <td>51.0</td>\n",
       "      <td>2018.0</td>\n",
       "    </tr>\n",
       "    <tr>\n",
       "      <th>1</th>\n",
       "      <td>2017-09-01</td>\n",
       "      <td>A0118150101</td>\n",
       "      <td>70002018.0</td>\n",
       "      <td>77.0</td>\n",
       "      <td>2018.0</td>\n",
       "    </tr>\n",
       "    <tr>\n",
       "      <th>2</th>\n",
       "      <td>2017-09-01</td>\n",
       "      <td>A0118150101</td>\n",
       "      <td>70003181.0</td>\n",
       "      <td>17.0</td>\n",
       "      <td>2018.0</td>\n",
       "    </tr>\n",
       "    <tr>\n",
       "      <th>3</th>\n",
       "      <td>2017-09-01</td>\n",
       "      <td>A0118150101</td>\n",
       "      <td>70003182.0</td>\n",
       "      <td>6.0</td>\n",
       "      <td>2018.0</td>\n",
       "    </tr>\n",
       "    <tr>\n",
       "      <th>4</th>\n",
       "      <td>2017-09-01</td>\n",
       "      <td>A0118150101</td>\n",
       "      <td>70006157.0</td>\n",
       "      <td>5.0</td>\n",
       "      <td>2018.0</td>\n",
       "    </tr>\n",
       "    <tr>\n",
       "      <th>5</th>\n",
       "      <td>2017-09-01</td>\n",
       "      <td>A0118150101</td>\n",
       "      <td>70006158.0</td>\n",
       "      <td>7.0</td>\n",
       "      <td>2018.0</td>\n",
       "    </tr>\n",
       "    <tr>\n",
       "      <th>6</th>\n",
       "      <td>2017-09-01</td>\n",
       "      <td>A0118150101</td>\n",
       "      <td>70007198.0</td>\n",
       "      <td>29.0</td>\n",
       "      <td>2018.0</td>\n",
       "    </tr>\n",
       "    <tr>\n",
       "      <th>7</th>\n",
       "      <td>2017-09-01</td>\n",
       "      <td>A0118150101</td>\n",
       "      <td>70007199.0</td>\n",
       "      <td>34.0</td>\n",
       "      <td>2018.0</td>\n",
       "    </tr>\n",
       "    <tr>\n",
       "      <th>8</th>\n",
       "      <td>2017-09-01</td>\n",
       "      <td>A0118150101</td>\n",
       "      <td>70008169.0</td>\n",
       "      <td>22.0</td>\n",
       "      <td>2018.0</td>\n",
       "    </tr>\n",
       "    <tr>\n",
       "      <th>9</th>\n",
       "      <td>2017-09-01</td>\n",
       "      <td>A0118150101</td>\n",
       "      <td>70008170.0</td>\n",
       "      <td>5.0</td>\n",
       "      <td>2018.0</td>\n",
       "    </tr>\n",
       "    <tr>\n",
       "      <th>10</th>\n",
       "      <td>2017-09-01</td>\n",
       "      <td>A0118150101</td>\n",
       "      <td>70011193.0</td>\n",
       "      <td>10.0</td>\n",
       "      <td>2018.0</td>\n",
       "    </tr>\n",
       "    <tr>\n",
       "      <th>11</th>\n",
       "      <td>2017-09-01</td>\n",
       "      <td>A0118150101</td>\n",
       "      <td>70011194.0</td>\n",
       "      <td>4.0</td>\n",
       "      <td>2018.0</td>\n",
       "    </tr>\n",
       "    <tr>\n",
       "      <th>12</th>\n",
       "      <td>2017-09-01</td>\n",
       "      <td>A0118150101</td>\n",
       "      <td>70012042.0</td>\n",
       "      <td>0.0</td>\n",
       "      <td>2018.0</td>\n",
       "    </tr>\n",
       "    <tr>\n",
       "      <th>13</th>\n",
       "      <td>2017-09-01</td>\n",
       "      <td>A0118150101</td>\n",
       "      <td>70012043.0</td>\n",
       "      <td>0.0</td>\n",
       "      <td>2018.0</td>\n",
       "    </tr>\n",
       "    <tr>\n",
       "      <th>14</th>\n",
       "      <td>2017-09-01</td>\n",
       "      <td>A0118150101</td>\n",
       "      <td>70013125.0</td>\n",
       "      <td>1.0</td>\n",
       "      <td>2018.0</td>\n",
       "    </tr>\n",
       "  </tbody>\n",
       "</table>\n",
       "</div>"
      ],
      "text/plain": [
       "          date product_code  customer_code  sold_quantity  fiscal_year\n",
       "0   2017-09-01  A0118150101     70002017.0           51.0       2018.0\n",
       "1   2017-09-01  A0118150101     70002018.0           77.0       2018.0\n",
       "2   2017-09-01  A0118150101     70003181.0           17.0       2018.0\n",
       "3   2017-09-01  A0118150101     70003182.0            6.0       2018.0\n",
       "4   2017-09-01  A0118150101     70006157.0            5.0       2018.0\n",
       "5   2017-09-01  A0118150101     70006158.0            7.0       2018.0\n",
       "6   2017-09-01  A0118150101     70007198.0           29.0       2018.0\n",
       "7   2017-09-01  A0118150101     70007199.0           34.0       2018.0\n",
       "8   2017-09-01  A0118150101     70008169.0           22.0       2018.0\n",
       "9   2017-09-01  A0118150101     70008170.0            5.0       2018.0\n",
       "10  2017-09-01  A0118150101     70011193.0           10.0       2018.0\n",
       "11  2017-09-01  A0118150101     70011194.0            4.0       2018.0\n",
       "12  2017-09-01  A0118150101     70012042.0            0.0       2018.0\n",
       "13  2017-09-01  A0118150101     70012043.0            0.0       2018.0\n",
       "14  2017-09-01  A0118150101     70013125.0            1.0       2018.0"
      ]
     },
     "execution_count": 54,
     "metadata": {},
     "output_type": "execute_result"
    }
   ],
   "source": [
    "query = \"\"\"Select * from\n",
    "fact_sales_monthly\n",
    "\"\"\"\n",
    "fact_sales_monthly = pd.read_sql_query(query, con)\n",
    "fact_sales_monthly.head(15)\n"
   ]
  },
  {
   "cell_type": "code",
   "execution_count": 55,
   "metadata": {},
   "outputs": [
    {
     "name": "stdout",
     "output_type": "stream",
     "text": [
      "<class 'pandas.core.frame.DataFrame'>\n",
      "RangeIndex: 67251 entries, 0 to 67250\n",
      "Data columns (total 5 columns):\n",
      " #   Column         Non-Null Count  Dtype  \n",
      "---  ------         --------------  -----  \n",
      " 0   date           67251 non-null  object \n",
      " 1   product_code   67251 non-null  object \n",
      " 2   customer_code  67250 non-null  float64\n",
      " 3   sold_quantity  67250 non-null  float64\n",
      " 4   fiscal_year    67250 non-null  float64\n",
      "dtypes: float64(3), object(2)\n",
      "memory usage: 2.6+ MB\n"
     ]
    }
   ],
   "source": [
    "fact_sales_monthly.info()"
   ]
  },
  {
   "cell_type": "code",
   "execution_count": 56,
   "metadata": {},
   "outputs": [
    {
     "data": {
      "text/html": [
       "<div>\n",
       "<style scoped>\n",
       "    .dataframe tbody tr th:only-of-type {\n",
       "        vertical-align: middle;\n",
       "    }\n",
       "\n",
       "    .dataframe tbody tr th {\n",
       "        vertical-align: top;\n",
       "    }\n",
       "\n",
       "    .dataframe thead th {\n",
       "        text-align: right;\n",
       "    }\n",
       "</style>\n",
       "<table border=\"1\" class=\"dataframe\">\n",
       "  <thead>\n",
       "    <tr style=\"text-align: right;\">\n",
       "      <th></th>\n",
       "      <th>product_code</th>\n",
       "      <th>fiscal_year</th>\n",
       "      <th>gross_price</th>\n",
       "      <th>cost_year</th>\n",
       "      <th>manufacturing_cost</th>\n",
       "      <th>gross_margin</th>\n",
       "      <th>date</th>\n",
       "      <th>customer_code</th>\n",
       "      <th>sold_quantity</th>\n",
       "    </tr>\n",
       "  </thead>\n",
       "  <tbody>\n",
       "    <tr>\n",
       "      <th>0</th>\n",
       "      <td>A0118150101</td>\n",
       "      <td>2018</td>\n",
       "      <td>15.3952</td>\n",
       "      <td>2018</td>\n",
       "      <td>4.6190</td>\n",
       "      <td>69.997142</td>\n",
       "      <td>2017-09-01</td>\n",
       "      <td>70002017.0</td>\n",
       "      <td>51.0</td>\n",
       "    </tr>\n",
       "    <tr>\n",
       "      <th>1</th>\n",
       "      <td>A0118150101</td>\n",
       "      <td>2018</td>\n",
       "      <td>15.3952</td>\n",
       "      <td>2018</td>\n",
       "      <td>4.6190</td>\n",
       "      <td>69.997142</td>\n",
       "      <td>2017-09-01</td>\n",
       "      <td>70002018.0</td>\n",
       "      <td>77.0</td>\n",
       "    </tr>\n",
       "    <tr>\n",
       "      <th>2</th>\n",
       "      <td>A0118150101</td>\n",
       "      <td>2018</td>\n",
       "      <td>15.3952</td>\n",
       "      <td>2018</td>\n",
       "      <td>4.6190</td>\n",
       "      <td>69.997142</td>\n",
       "      <td>2017-09-01</td>\n",
       "      <td>70003181.0</td>\n",
       "      <td>17.0</td>\n",
       "    </tr>\n",
       "    <tr>\n",
       "      <th>3</th>\n",
       "      <td>A0118150101</td>\n",
       "      <td>2018</td>\n",
       "      <td>15.3952</td>\n",
       "      <td>2018</td>\n",
       "      <td>4.6190</td>\n",
       "      <td>69.997142</td>\n",
       "      <td>2017-09-01</td>\n",
       "      <td>70003182.0</td>\n",
       "      <td>6.0</td>\n",
       "    </tr>\n",
       "    <tr>\n",
       "      <th>4</th>\n",
       "      <td>A0118150101</td>\n",
       "      <td>2018</td>\n",
       "      <td>15.3952</td>\n",
       "      <td>2018</td>\n",
       "      <td>4.6190</td>\n",
       "      <td>69.997142</td>\n",
       "      <td>2017-09-01</td>\n",
       "      <td>70006157.0</td>\n",
       "      <td>5.0</td>\n",
       "    </tr>\n",
       "    <tr>\n",
       "      <th>...</th>\n",
       "      <td>...</td>\n",
       "      <td>...</td>\n",
       "      <td>...</td>\n",
       "      <td>...</td>\n",
       "      <td>...</td>\n",
       "      <td>...</td>\n",
       "      <td>...</td>\n",
       "      <td>...</td>\n",
       "      <td>...</td>\n",
       "    </tr>\n",
       "    <tr>\n",
       "      <th>268048</th>\n",
       "      <td>A7321160302</td>\n",
       "      <td>2022</td>\n",
       "      <td>46.0399</td>\n",
       "      <td>2022</td>\n",
       "      <td>13.1954</td>\n",
       "      <td>71.339208</td>\n",
       "      <td>NaN</td>\n",
       "      <td>NaN</td>\n",
       "      <td>NaN</td>\n",
       "    </tr>\n",
       "    <tr>\n",
       "      <th>268049</th>\n",
       "      <td>A7321160303</td>\n",
       "      <td>2021</td>\n",
       "      <td>42.8483</td>\n",
       "      <td>2021</td>\n",
       "      <td>12.9502</td>\n",
       "      <td>69.776631</td>\n",
       "      <td>NaN</td>\n",
       "      <td>NaN</td>\n",
       "      <td>NaN</td>\n",
       "    </tr>\n",
       "    <tr>\n",
       "      <th>268050</th>\n",
       "      <td>A7321160303</td>\n",
       "      <td>2021</td>\n",
       "      <td>42.8483</td>\n",
       "      <td>2022</td>\n",
       "      <td>13.3387</td>\n",
       "      <td>68.869943</td>\n",
       "      <td>NaN</td>\n",
       "      <td>NaN</td>\n",
       "      <td>NaN</td>\n",
       "    </tr>\n",
       "    <tr>\n",
       "      <th>268051</th>\n",
       "      <td>A7321160303</td>\n",
       "      <td>2022</td>\n",
       "      <td>43.5559</td>\n",
       "      <td>2021</td>\n",
       "      <td>12.9502</td>\n",
       "      <td>70.267633</td>\n",
       "      <td>NaN</td>\n",
       "      <td>NaN</td>\n",
       "      <td>NaN</td>\n",
       "    </tr>\n",
       "    <tr>\n",
       "      <th>268052</th>\n",
       "      <td>A7321160303</td>\n",
       "      <td>2022</td>\n",
       "      <td>43.5559</td>\n",
       "      <td>2022</td>\n",
       "      <td>13.3387</td>\n",
       "      <td>69.375676</td>\n",
       "      <td>NaN</td>\n",
       "      <td>NaN</td>\n",
       "      <td>NaN</td>\n",
       "    </tr>\n",
       "  </tbody>\n",
       "</table>\n",
       "<p>268053 rows × 9 columns</p>\n",
       "</div>"
      ],
      "text/plain": [
       "       product_code  fiscal_year  gross_price  cost_year  manufacturing_cost  \\\n",
       "0       A0118150101         2018      15.3952       2018              4.6190   \n",
       "1       A0118150101         2018      15.3952       2018              4.6190   \n",
       "2       A0118150101         2018      15.3952       2018              4.6190   \n",
       "3       A0118150101         2018      15.3952       2018              4.6190   \n",
       "4       A0118150101         2018      15.3952       2018              4.6190   \n",
       "...             ...          ...          ...        ...                 ...   \n",
       "268048  A7321160302         2022      46.0399       2022             13.1954   \n",
       "268049  A7321160303         2021      42.8483       2021             12.9502   \n",
       "268050  A7321160303         2021      42.8483       2022             13.3387   \n",
       "268051  A7321160303         2022      43.5559       2021             12.9502   \n",
       "268052  A7321160303         2022      43.5559       2022             13.3387   \n",
       "\n",
       "        gross_margin        date  customer_code  sold_quantity  \n",
       "0          69.997142  2017-09-01     70002017.0           51.0  \n",
       "1          69.997142  2017-09-01     70002018.0           77.0  \n",
       "2          69.997142  2017-09-01     70003181.0           17.0  \n",
       "3          69.997142  2017-09-01     70003182.0            6.0  \n",
       "4          69.997142  2017-09-01     70006157.0            5.0  \n",
       "...              ...         ...            ...            ...  \n",
       "268048     71.339208         NaN            NaN            NaN  \n",
       "268049     69.776631         NaN            NaN            NaN  \n",
       "268050     68.869943         NaN            NaN            NaN  \n",
       "268051     70.267633         NaN            NaN            NaN  \n",
       "268052     69.375676         NaN            NaN            NaN  \n",
       "\n",
       "[268053 rows x 9 columns]"
      ]
     },
     "execution_count": 56,
     "metadata": {},
     "output_type": "execute_result"
    }
   ],
   "source": [
    "total_price_monthly = total_price.merge(fact_sales_monthly, how= 'left', on=['product_code', 'fiscal_year'])\n",
    "total_price_monthly"
   ]
  },
  {
   "cell_type": "code",
   "execution_count": 57,
   "metadata": {},
   "outputs": [
    {
     "data": {
      "text/html": [
       "<div>\n",
       "<style scoped>\n",
       "    .dataframe tbody tr th:only-of-type {\n",
       "        vertical-align: middle;\n",
       "    }\n",
       "\n",
       "    .dataframe tbody tr th {\n",
       "        vertical-align: top;\n",
       "    }\n",
       "\n",
       "    .dataframe thead th {\n",
       "        text-align: right;\n",
       "    }\n",
       "</style>\n",
       "<table border=\"1\" class=\"dataframe\">\n",
       "  <thead>\n",
       "    <tr style=\"text-align: right;\">\n",
       "      <th></th>\n",
       "      <th>product_code</th>\n",
       "      <th>division</th>\n",
       "      <th>segment</th>\n",
       "      <th>category</th>\n",
       "      <th>product</th>\n",
       "      <th>variant</th>\n",
       "      <th>fiscal_year_x</th>\n",
       "      <th>gross_price</th>\n",
       "      <th>date</th>\n",
       "      <th>customer_code</th>\n",
       "      <th>sold_quantity</th>\n",
       "      <th>fiscal_year_y</th>\n",
       "      <th>cost_year</th>\n",
       "      <th>manufacturing_cost</th>\n",
       "    </tr>\n",
       "  </thead>\n",
       "  <tbody>\n",
       "    <tr>\n",
       "      <th>0</th>\n",
       "      <td>A0118150101</td>\n",
       "      <td>P &amp; A</td>\n",
       "      <td>Peripherals</td>\n",
       "      <td>Internal HDD</td>\n",
       "      <td>AQ Dracula HDD – 3.5 Inch SATA 6 Gb/s 5400 RPM...</td>\n",
       "      <td>Standard</td>\n",
       "      <td>2018</td>\n",
       "      <td>15.3952</td>\n",
       "      <td>2017-09-01</td>\n",
       "      <td>70002017.0</td>\n",
       "      <td>51.0</td>\n",
       "      <td>2018.0</td>\n",
       "      <td>2018</td>\n",
       "      <td>4.6190</td>\n",
       "    </tr>\n",
       "    <tr>\n",
       "      <th>1</th>\n",
       "      <td>A0118150101</td>\n",
       "      <td>P &amp; A</td>\n",
       "      <td>Peripherals</td>\n",
       "      <td>Internal HDD</td>\n",
       "      <td>AQ Dracula HDD – 3.5 Inch SATA 6 Gb/s 5400 RPM...</td>\n",
       "      <td>Standard</td>\n",
       "      <td>2018</td>\n",
       "      <td>15.3952</td>\n",
       "      <td>2017-09-01</td>\n",
       "      <td>70002017.0</td>\n",
       "      <td>51.0</td>\n",
       "      <td>2018.0</td>\n",
       "      <td>2019</td>\n",
       "      <td>4.2033</td>\n",
       "    </tr>\n",
       "    <tr>\n",
       "      <th>2</th>\n",
       "      <td>A0118150101</td>\n",
       "      <td>P &amp; A</td>\n",
       "      <td>Peripherals</td>\n",
       "      <td>Internal HDD</td>\n",
       "      <td>AQ Dracula HDD – 3.5 Inch SATA 6 Gb/s 5400 RPM...</td>\n",
       "      <td>Standard</td>\n",
       "      <td>2018</td>\n",
       "      <td>15.3952</td>\n",
       "      <td>2017-09-01</td>\n",
       "      <td>70002017.0</td>\n",
       "      <td>51.0</td>\n",
       "      <td>2018.0</td>\n",
       "      <td>2020</td>\n",
       "      <td>5.0207</td>\n",
       "    </tr>\n",
       "    <tr>\n",
       "      <th>3</th>\n",
       "      <td>A0118150101</td>\n",
       "      <td>P &amp; A</td>\n",
       "      <td>Peripherals</td>\n",
       "      <td>Internal HDD</td>\n",
       "      <td>AQ Dracula HDD – 3.5 Inch SATA 6 Gb/s 5400 RPM...</td>\n",
       "      <td>Standard</td>\n",
       "      <td>2018</td>\n",
       "      <td>15.3952</td>\n",
       "      <td>2017-09-01</td>\n",
       "      <td>70002017.0</td>\n",
       "      <td>51.0</td>\n",
       "      <td>2018.0</td>\n",
       "      <td>2021</td>\n",
       "      <td>5.5172</td>\n",
       "    </tr>\n",
       "    <tr>\n",
       "      <th>4</th>\n",
       "      <td>A0118150101</td>\n",
       "      <td>P &amp; A</td>\n",
       "      <td>Peripherals</td>\n",
       "      <td>Internal HDD</td>\n",
       "      <td>AQ Dracula HDD – 3.5 Inch SATA 6 Gb/s 5400 RPM...</td>\n",
       "      <td>Standard</td>\n",
       "      <td>2018</td>\n",
       "      <td>15.3952</td>\n",
       "      <td>2017-09-01</td>\n",
       "      <td>70002018.0</td>\n",
       "      <td>77.0</td>\n",
       "      <td>2018.0</td>\n",
       "      <td>2018</td>\n",
       "      <td>4.6190</td>\n",
       "    </tr>\n",
       "    <tr>\n",
       "      <th>...</th>\n",
       "      <td>...</td>\n",
       "      <td>...</td>\n",
       "      <td>...</td>\n",
       "      <td>...</td>\n",
       "      <td>...</td>\n",
       "      <td>...</td>\n",
       "      <td>...</td>\n",
       "      <td>...</td>\n",
       "      <td>...</td>\n",
       "      <td>...</td>\n",
       "      <td>...</td>\n",
       "      <td>...</td>\n",
       "      <td>...</td>\n",
       "      <td>...</td>\n",
       "    </tr>\n",
       "    <tr>\n",
       "      <th>1095145</th>\n",
       "      <td>A0418150104</td>\n",
       "      <td>P &amp; A</td>\n",
       "      <td>Peripherals</td>\n",
       "      <td>Graphic Card</td>\n",
       "      <td>AQ Mforce Gen X</td>\n",
       "      <td>Plus 1</td>\n",
       "      <td>2022</td>\n",
       "      <td>19.7359</td>\n",
       "      <td>2019-06-01</td>\n",
       "      <td>90014140.0</td>\n",
       "      <td>3.0</td>\n",
       "      <td>2019.0</td>\n",
       "      <td>2018</td>\n",
       "      <td>5.3666</td>\n",
       "    </tr>\n",
       "    <tr>\n",
       "      <th>1095146</th>\n",
       "      <td>A0418150104</td>\n",
       "      <td>P &amp; A</td>\n",
       "      <td>Peripherals</td>\n",
       "      <td>Graphic Card</td>\n",
       "      <td>AQ Mforce Gen X</td>\n",
       "      <td>Plus 1</td>\n",
       "      <td>2022</td>\n",
       "      <td>19.7359</td>\n",
       "      <td>2019-06-01</td>\n",
       "      <td>90014140.0</td>\n",
       "      <td>3.0</td>\n",
       "      <td>2019.0</td>\n",
       "      <td>2019</td>\n",
       "      <td>5.3129</td>\n",
       "    </tr>\n",
       "    <tr>\n",
       "      <th>1095147</th>\n",
       "      <td>A0418150104</td>\n",
       "      <td>P &amp; A</td>\n",
       "      <td>Peripherals</td>\n",
       "      <td>Graphic Card</td>\n",
       "      <td>AQ Mforce Gen X</td>\n",
       "      <td>Plus 1</td>\n",
       "      <td>2022</td>\n",
       "      <td>19.7359</td>\n",
       "      <td>2019-06-01</td>\n",
       "      <td>90014140.0</td>\n",
       "      <td>3.0</td>\n",
       "      <td>2019.0</td>\n",
       "      <td>2020</td>\n",
       "      <td>5.6490</td>\n",
       "    </tr>\n",
       "    <tr>\n",
       "      <th>1095148</th>\n",
       "      <td>A0418150104</td>\n",
       "      <td>P &amp; A</td>\n",
       "      <td>Peripherals</td>\n",
       "      <td>Graphic Card</td>\n",
       "      <td>AQ Mforce Gen X</td>\n",
       "      <td>Plus 1</td>\n",
       "      <td>2022</td>\n",
       "      <td>19.7359</td>\n",
       "      <td>2019-06-01</td>\n",
       "      <td>90014140.0</td>\n",
       "      <td>3.0</td>\n",
       "      <td>2019.0</td>\n",
       "      <td>2021</td>\n",
       "      <td>5.8238</td>\n",
       "    </tr>\n",
       "    <tr>\n",
       "      <th>1095149</th>\n",
       "      <td>A0418150104</td>\n",
       "      <td>P &amp; A</td>\n",
       "      <td>Peripherals</td>\n",
       "      <td>Graphic Card</td>\n",
       "      <td>AQ Mforce Gen X</td>\n",
       "      <td>Plus 1</td>\n",
       "      <td>2022</td>\n",
       "      <td>19.7359</td>\n",
       "      <td>2019-06-01</td>\n",
       "      <td>90014140.0</td>\n",
       "      <td>3.0</td>\n",
       "      <td>2019.0</td>\n",
       "      <td>2022</td>\n",
       "      <td>5.9402</td>\n",
       "    </tr>\n",
       "  </tbody>\n",
       "</table>\n",
       "<p>1095150 rows × 14 columns</p>\n",
       "</div>"
      ],
      "text/plain": [
       "        product_code division      segment      category  \\\n",
       "0        A0118150101    P & A  Peripherals  Internal HDD   \n",
       "1        A0118150101    P & A  Peripherals  Internal HDD   \n",
       "2        A0118150101    P & A  Peripherals  Internal HDD   \n",
       "3        A0118150101    P & A  Peripherals  Internal HDD   \n",
       "4        A0118150101    P & A  Peripherals  Internal HDD   \n",
       "...              ...      ...          ...           ...   \n",
       "1095145  A0418150104    P & A  Peripherals  Graphic Card   \n",
       "1095146  A0418150104    P & A  Peripherals  Graphic Card   \n",
       "1095147  A0418150104    P & A  Peripherals  Graphic Card   \n",
       "1095148  A0418150104    P & A  Peripherals  Graphic Card   \n",
       "1095149  A0418150104    P & A  Peripherals  Graphic Card   \n",
       "\n",
       "                                                   product   variant  \\\n",
       "0        AQ Dracula HDD – 3.5 Inch SATA 6 Gb/s 5400 RPM...  Standard   \n",
       "1        AQ Dracula HDD – 3.5 Inch SATA 6 Gb/s 5400 RPM...  Standard   \n",
       "2        AQ Dracula HDD – 3.5 Inch SATA 6 Gb/s 5400 RPM...  Standard   \n",
       "3        AQ Dracula HDD – 3.5 Inch SATA 6 Gb/s 5400 RPM...  Standard   \n",
       "4        AQ Dracula HDD – 3.5 Inch SATA 6 Gb/s 5400 RPM...  Standard   \n",
       "...                                                    ...       ...   \n",
       "1095145                                    AQ Mforce Gen X    Plus 1   \n",
       "1095146                                    AQ Mforce Gen X    Plus 1   \n",
       "1095147                                    AQ Mforce Gen X    Plus 1   \n",
       "1095148                                    AQ Mforce Gen X    Plus 1   \n",
       "1095149                                    AQ Mforce Gen X    Plus 1   \n",
       "\n",
       "         fiscal_year_x  gross_price        date  customer_code  sold_quantity  \\\n",
       "0                 2018      15.3952  2017-09-01     70002017.0           51.0   \n",
       "1                 2018      15.3952  2017-09-01     70002017.0           51.0   \n",
       "2                 2018      15.3952  2017-09-01     70002017.0           51.0   \n",
       "3                 2018      15.3952  2017-09-01     70002017.0           51.0   \n",
       "4                 2018      15.3952  2017-09-01     70002018.0           77.0   \n",
       "...                ...          ...         ...            ...            ...   \n",
       "1095145           2022      19.7359  2019-06-01     90014140.0            3.0   \n",
       "1095146           2022      19.7359  2019-06-01     90014140.0            3.0   \n",
       "1095147           2022      19.7359  2019-06-01     90014140.0            3.0   \n",
       "1095148           2022      19.7359  2019-06-01     90014140.0            3.0   \n",
       "1095149           2022      19.7359  2019-06-01     90014140.0            3.0   \n",
       "\n",
       "         fiscal_year_y  cost_year  manufacturing_cost  \n",
       "0               2018.0       2018              4.6190  \n",
       "1               2018.0       2019              4.2033  \n",
       "2               2018.0       2020              5.0207  \n",
       "3               2018.0       2021              5.5172  \n",
       "4               2018.0       2018              4.6190  \n",
       "...                ...        ...                 ...  \n",
       "1095145         2019.0       2018              5.3666  \n",
       "1095146         2019.0       2019              5.3129  \n",
       "1095147         2019.0       2020              5.6490  \n",
       "1095148         2019.0       2021              5.8238  \n",
       "1095149         2019.0       2022              5.9402  \n",
       "\n",
       "[1095150 rows x 14 columns]"
      ]
     },
     "execution_count": 57,
     "metadata": {},
     "output_type": "execute_result"
    }
   ],
   "source": [
    "products = dim_product.merge(fact_gross_price, how='inner', on='product_code')\n",
    "products = products.merge(fact_sales_monthly, how='inner', on='product_code')\n",
    "products = products.merge(fact_manufacturing_cost, how='inner', on='product_code')\n",
    "products"
   ]
  },
  {
   "cell_type": "code",
   "execution_count": 58,
   "metadata": {},
   "outputs": [],
   "source": [
    "products.drop(['division', 'segment', 'customer_code'], axis=1, inplace=True)"
   ]
  },
  {
   "cell_type": "code",
   "execution_count": 59,
   "metadata": {},
   "outputs": [
    {
     "data": {
      "text/html": [
       "<div>\n",
       "<style scoped>\n",
       "    .dataframe tbody tr th:only-of-type {\n",
       "        vertical-align: middle;\n",
       "    }\n",
       "\n",
       "    .dataframe tbody tr th {\n",
       "        vertical-align: top;\n",
       "    }\n",
       "\n",
       "    .dataframe thead th {\n",
       "        text-align: right;\n",
       "    }\n",
       "</style>\n",
       "<table border=\"1\" class=\"dataframe\">\n",
       "  <thead>\n",
       "    <tr style=\"text-align: right;\">\n",
       "      <th></th>\n",
       "      <th>product_code</th>\n",
       "      <th>category</th>\n",
       "      <th>product</th>\n",
       "      <th>variant</th>\n",
       "      <th>fiscal_year_x</th>\n",
       "      <th>gross_price</th>\n",
       "      <th>date</th>\n",
       "      <th>sold_quantity</th>\n",
       "      <th>fiscal_year_y</th>\n",
       "      <th>cost_year</th>\n",
       "      <th>manufacturing_cost</th>\n",
       "    </tr>\n",
       "  </thead>\n",
       "  <tbody>\n",
       "    <tr>\n",
       "      <th>0</th>\n",
       "      <td>A0118150101</td>\n",
       "      <td>Internal HDD</td>\n",
       "      <td>AQ Dracula HDD – 3.5 Inch SATA 6 Gb/s 5400 RPM...</td>\n",
       "      <td>Standard</td>\n",
       "      <td>2018</td>\n",
       "      <td>15.3952</td>\n",
       "      <td>2017-09-01</td>\n",
       "      <td>51.0</td>\n",
       "      <td>2018.0</td>\n",
       "      <td>2018</td>\n",
       "      <td>4.6190</td>\n",
       "    </tr>\n",
       "    <tr>\n",
       "      <th>1</th>\n",
       "      <td>A0118150101</td>\n",
       "      <td>Internal HDD</td>\n",
       "      <td>AQ Dracula HDD – 3.5 Inch SATA 6 Gb/s 5400 RPM...</td>\n",
       "      <td>Standard</td>\n",
       "      <td>2018</td>\n",
       "      <td>15.3952</td>\n",
       "      <td>2017-09-01</td>\n",
       "      <td>51.0</td>\n",
       "      <td>2018.0</td>\n",
       "      <td>2019</td>\n",
       "      <td>4.2033</td>\n",
       "    </tr>\n",
       "    <tr>\n",
       "      <th>2</th>\n",
       "      <td>A0118150101</td>\n",
       "      <td>Internal HDD</td>\n",
       "      <td>AQ Dracula HDD – 3.5 Inch SATA 6 Gb/s 5400 RPM...</td>\n",
       "      <td>Standard</td>\n",
       "      <td>2018</td>\n",
       "      <td>15.3952</td>\n",
       "      <td>2017-09-01</td>\n",
       "      <td>51.0</td>\n",
       "      <td>2018.0</td>\n",
       "      <td>2020</td>\n",
       "      <td>5.0207</td>\n",
       "    </tr>\n",
       "    <tr>\n",
       "      <th>3</th>\n",
       "      <td>A0118150101</td>\n",
       "      <td>Internal HDD</td>\n",
       "      <td>AQ Dracula HDD – 3.5 Inch SATA 6 Gb/s 5400 RPM...</td>\n",
       "      <td>Standard</td>\n",
       "      <td>2018</td>\n",
       "      <td>15.3952</td>\n",
       "      <td>2017-09-01</td>\n",
       "      <td>51.0</td>\n",
       "      <td>2018.0</td>\n",
       "      <td>2021</td>\n",
       "      <td>5.5172</td>\n",
       "    </tr>\n",
       "    <tr>\n",
       "      <th>4</th>\n",
       "      <td>A0118150101</td>\n",
       "      <td>Internal HDD</td>\n",
       "      <td>AQ Dracula HDD – 3.5 Inch SATA 6 Gb/s 5400 RPM...</td>\n",
       "      <td>Standard</td>\n",
       "      <td>2018</td>\n",
       "      <td>15.3952</td>\n",
       "      <td>2017-09-01</td>\n",
       "      <td>77.0</td>\n",
       "      <td>2018.0</td>\n",
       "      <td>2018</td>\n",
       "      <td>4.6190</td>\n",
       "    </tr>\n",
       "    <tr>\n",
       "      <th>...</th>\n",
       "      <td>...</td>\n",
       "      <td>...</td>\n",
       "      <td>...</td>\n",
       "      <td>...</td>\n",
       "      <td>...</td>\n",
       "      <td>...</td>\n",
       "      <td>...</td>\n",
       "      <td>...</td>\n",
       "      <td>...</td>\n",
       "      <td>...</td>\n",
       "      <td>...</td>\n",
       "    </tr>\n",
       "    <tr>\n",
       "      <th>1095145</th>\n",
       "      <td>A0418150104</td>\n",
       "      <td>Graphic Card</td>\n",
       "      <td>AQ Mforce Gen X</td>\n",
       "      <td>Plus 1</td>\n",
       "      <td>2022</td>\n",
       "      <td>19.7359</td>\n",
       "      <td>2019-06-01</td>\n",
       "      <td>3.0</td>\n",
       "      <td>2019.0</td>\n",
       "      <td>2018</td>\n",
       "      <td>5.3666</td>\n",
       "    </tr>\n",
       "    <tr>\n",
       "      <th>1095146</th>\n",
       "      <td>A0418150104</td>\n",
       "      <td>Graphic Card</td>\n",
       "      <td>AQ Mforce Gen X</td>\n",
       "      <td>Plus 1</td>\n",
       "      <td>2022</td>\n",
       "      <td>19.7359</td>\n",
       "      <td>2019-06-01</td>\n",
       "      <td>3.0</td>\n",
       "      <td>2019.0</td>\n",
       "      <td>2019</td>\n",
       "      <td>5.3129</td>\n",
       "    </tr>\n",
       "    <tr>\n",
       "      <th>1095147</th>\n",
       "      <td>A0418150104</td>\n",
       "      <td>Graphic Card</td>\n",
       "      <td>AQ Mforce Gen X</td>\n",
       "      <td>Plus 1</td>\n",
       "      <td>2022</td>\n",
       "      <td>19.7359</td>\n",
       "      <td>2019-06-01</td>\n",
       "      <td>3.0</td>\n",
       "      <td>2019.0</td>\n",
       "      <td>2020</td>\n",
       "      <td>5.6490</td>\n",
       "    </tr>\n",
       "    <tr>\n",
       "      <th>1095148</th>\n",
       "      <td>A0418150104</td>\n",
       "      <td>Graphic Card</td>\n",
       "      <td>AQ Mforce Gen X</td>\n",
       "      <td>Plus 1</td>\n",
       "      <td>2022</td>\n",
       "      <td>19.7359</td>\n",
       "      <td>2019-06-01</td>\n",
       "      <td>3.0</td>\n",
       "      <td>2019.0</td>\n",
       "      <td>2021</td>\n",
       "      <td>5.8238</td>\n",
       "    </tr>\n",
       "    <tr>\n",
       "      <th>1095149</th>\n",
       "      <td>A0418150104</td>\n",
       "      <td>Graphic Card</td>\n",
       "      <td>AQ Mforce Gen X</td>\n",
       "      <td>Plus 1</td>\n",
       "      <td>2022</td>\n",
       "      <td>19.7359</td>\n",
       "      <td>2019-06-01</td>\n",
       "      <td>3.0</td>\n",
       "      <td>2019.0</td>\n",
       "      <td>2022</td>\n",
       "      <td>5.9402</td>\n",
       "    </tr>\n",
       "  </tbody>\n",
       "</table>\n",
       "<p>1095150 rows × 11 columns</p>\n",
       "</div>"
      ],
      "text/plain": [
       "        product_code      category  \\\n",
       "0        A0118150101  Internal HDD   \n",
       "1        A0118150101  Internal HDD   \n",
       "2        A0118150101  Internal HDD   \n",
       "3        A0118150101  Internal HDD   \n",
       "4        A0118150101  Internal HDD   \n",
       "...              ...           ...   \n",
       "1095145  A0418150104  Graphic Card   \n",
       "1095146  A0418150104  Graphic Card   \n",
       "1095147  A0418150104  Graphic Card   \n",
       "1095148  A0418150104  Graphic Card   \n",
       "1095149  A0418150104  Graphic Card   \n",
       "\n",
       "                                                   product   variant  \\\n",
       "0        AQ Dracula HDD – 3.5 Inch SATA 6 Gb/s 5400 RPM...  Standard   \n",
       "1        AQ Dracula HDD – 3.5 Inch SATA 6 Gb/s 5400 RPM...  Standard   \n",
       "2        AQ Dracula HDD – 3.5 Inch SATA 6 Gb/s 5400 RPM...  Standard   \n",
       "3        AQ Dracula HDD – 3.5 Inch SATA 6 Gb/s 5400 RPM...  Standard   \n",
       "4        AQ Dracula HDD – 3.5 Inch SATA 6 Gb/s 5400 RPM...  Standard   \n",
       "...                                                    ...       ...   \n",
       "1095145                                    AQ Mforce Gen X    Plus 1   \n",
       "1095146                                    AQ Mforce Gen X    Plus 1   \n",
       "1095147                                    AQ Mforce Gen X    Plus 1   \n",
       "1095148                                    AQ Mforce Gen X    Plus 1   \n",
       "1095149                                    AQ Mforce Gen X    Plus 1   \n",
       "\n",
       "         fiscal_year_x  gross_price        date  sold_quantity  fiscal_year_y  \\\n",
       "0                 2018      15.3952  2017-09-01           51.0         2018.0   \n",
       "1                 2018      15.3952  2017-09-01           51.0         2018.0   \n",
       "2                 2018      15.3952  2017-09-01           51.0         2018.0   \n",
       "3                 2018      15.3952  2017-09-01           51.0         2018.0   \n",
       "4                 2018      15.3952  2017-09-01           77.0         2018.0   \n",
       "...                ...          ...         ...            ...            ...   \n",
       "1095145           2022      19.7359  2019-06-01            3.0         2019.0   \n",
       "1095146           2022      19.7359  2019-06-01            3.0         2019.0   \n",
       "1095147           2022      19.7359  2019-06-01            3.0         2019.0   \n",
       "1095148           2022      19.7359  2019-06-01            3.0         2019.0   \n",
       "1095149           2022      19.7359  2019-06-01            3.0         2019.0   \n",
       "\n",
       "         cost_year  manufacturing_cost  \n",
       "0             2018              4.6190  \n",
       "1             2019              4.2033  \n",
       "2             2020              5.0207  \n",
       "3             2021              5.5172  \n",
       "4             2018              4.6190  \n",
       "...            ...                 ...  \n",
       "1095145       2018              5.3666  \n",
       "1095146       2019              5.3129  \n",
       "1095147       2020              5.6490  \n",
       "1095148       2021              5.8238  \n",
       "1095149       2022              5.9402  \n",
       "\n",
       "[1095150 rows x 11 columns]"
      ]
     },
     "execution_count": 59,
     "metadata": {},
     "output_type": "execute_result"
    }
   ],
   "source": [
    "products"
   ]
  },
  {
   "cell_type": "code",
   "execution_count": 60,
   "metadata": {},
   "outputs": [
    {
     "data": {
      "text/plain": [
       "14"
      ]
     },
     "execution_count": 60,
     "metadata": {},
     "output_type": "execute_result"
    }
   ],
   "source": [
    "products['product_code'].nunique()\n"
   ]
  },
  {
   "cell_type": "code",
   "execution_count": 61,
   "metadata": {},
   "outputs": [
    {
     "name": "stdout",
     "output_type": "stream",
     "text": [
      "<class 'pandas.core.frame.DataFrame'>\n",
      "Int64Index: 1095150 entries, 0 to 1095149\n",
      "Data columns (total 11 columns):\n",
      " #   Column              Non-Null Count    Dtype  \n",
      "---  ------              --------------    -----  \n",
      " 0   product_code        1095150 non-null  object \n",
      " 1   category            1095150 non-null  object \n",
      " 2   product             1095150 non-null  object \n",
      " 3   variant             1095150 non-null  object \n",
      " 4   fiscal_year_x       1095150 non-null  int64  \n",
      " 5   gross_price         1095150 non-null  float64\n",
      " 6   date                1095150 non-null  object \n",
      " 7   sold_quantity       1095150 non-null  float64\n",
      " 8   fiscal_year_y       1095150 non-null  float64\n",
      " 9   cost_year           1095150 non-null  int64  \n",
      " 10  manufacturing_cost  1095150 non-null  float64\n",
      "dtypes: float64(4), int64(2), object(5)\n",
      "memory usage: 100.3+ MB\n"
     ]
    }
   ],
   "source": [
    "products.info()"
   ]
  },
  {
   "cell_type": "code",
   "execution_count": 62,
   "metadata": {},
   "outputs": [
    {
     "name": "stdout",
     "output_type": "stream",
     "text": [
      "<class 'pandas.core.frame.DataFrame'>\n",
      "Int64Index: 1095150 entries, 0 to 1095149\n",
      "Data columns (total 11 columns):\n",
      " #   Column              Non-Null Count    Dtype         \n",
      "---  ------              --------------    -----         \n",
      " 0   product_code        1095150 non-null  object        \n",
      " 1   category            1095150 non-null  object        \n",
      " 2   product             1095150 non-null  object        \n",
      " 3   variant             1095150 non-null  object        \n",
      " 4   fiscal_year_x       1095150 non-null  int64         \n",
      " 5   gross_price         1095150 non-null  float64       \n",
      " 6   date                1095150 non-null  datetime64[ns]\n",
      " 7   sold_quantity       1095150 non-null  float64       \n",
      " 8   fiscal_year_y       1095150 non-null  int64         \n",
      " 9   cost_year           1095150 non-null  int64         \n",
      " 10  manufacturing_cost  1095150 non-null  float64       \n",
      "dtypes: datetime64[ns](1), float64(3), int64(3), object(4)\n",
      "memory usage: 100.3+ MB\n"
     ]
    }
   ],
   "source": [
    "products['fiscal_year_y'] = products['fiscal_year_y'].astype(int)\n",
    "products['date'] = pd.to_datetime(products['date'])\n",
    "products.info()"
   ]
  },
  {
   "cell_type": "code",
   "execution_count": 63,
   "metadata": {},
   "outputs": [
    {
     "data": {
      "text/html": [
       "<div>\n",
       "<style scoped>\n",
       "    .dataframe tbody tr th:only-of-type {\n",
       "        vertical-align: middle;\n",
       "    }\n",
       "\n",
       "    .dataframe tbody tr th {\n",
       "        vertical-align: top;\n",
       "    }\n",
       "\n",
       "    .dataframe thead th {\n",
       "        text-align: right;\n",
       "    }\n",
       "</style>\n",
       "<table border=\"1\" class=\"dataframe\">\n",
       "  <thead>\n",
       "    <tr style=\"text-align: right;\">\n",
       "      <th></th>\n",
       "      <th>product_code</th>\n",
       "      <th>category</th>\n",
       "      <th>product</th>\n",
       "      <th>variant</th>\n",
       "      <th>fiscal_year_x</th>\n",
       "      <th>gross_price</th>\n",
       "      <th>date</th>\n",
       "      <th>sold_quantity</th>\n",
       "      <th>fiscal_year_y</th>\n",
       "      <th>cost_year</th>\n",
       "      <th>manufacturing_cost</th>\n",
       "      <th>gross_margin</th>\n",
       "      <th>profit</th>\n",
       "      <th>revenue</th>\n",
       "    </tr>\n",
       "  </thead>\n",
       "  <tbody>\n",
       "    <tr>\n",
       "      <th>0</th>\n",
       "      <td>A0118150101</td>\n",
       "      <td>Internal HDD</td>\n",
       "      <td>AQ Dracula HDD – 3.5 Inch SATA 6 Gb/s 5400 RPM...</td>\n",
       "      <td>Standard</td>\n",
       "      <td>2018</td>\n",
       "      <td>15.3952</td>\n",
       "      <td>2017-09-01</td>\n",
       "      <td>51.0</td>\n",
       "      <td>2018</td>\n",
       "      <td>2018</td>\n",
       "      <td>4.6190</td>\n",
       "      <td>69.997142</td>\n",
       "      <td>10.7762</td>\n",
       "      <td>785.1552</td>\n",
       "    </tr>\n",
       "    <tr>\n",
       "      <th>1</th>\n",
       "      <td>A0118150101</td>\n",
       "      <td>Internal HDD</td>\n",
       "      <td>AQ Dracula HDD – 3.5 Inch SATA 6 Gb/s 5400 RPM...</td>\n",
       "      <td>Standard</td>\n",
       "      <td>2018</td>\n",
       "      <td>15.3952</td>\n",
       "      <td>2017-09-01</td>\n",
       "      <td>51.0</td>\n",
       "      <td>2018</td>\n",
       "      <td>2019</td>\n",
       "      <td>4.2033</td>\n",
       "      <td>72.697334</td>\n",
       "      <td>11.1919</td>\n",
       "      <td>785.1552</td>\n",
       "    </tr>\n",
       "    <tr>\n",
       "      <th>2</th>\n",
       "      <td>A0118150101</td>\n",
       "      <td>Internal HDD</td>\n",
       "      <td>AQ Dracula HDD – 3.5 Inch SATA 6 Gb/s 5400 RPM...</td>\n",
       "      <td>Standard</td>\n",
       "      <td>2018</td>\n",
       "      <td>15.3952</td>\n",
       "      <td>2017-09-01</td>\n",
       "      <td>51.0</td>\n",
       "      <td>2018</td>\n",
       "      <td>2020</td>\n",
       "      <td>5.0207</td>\n",
       "      <td>67.387887</td>\n",
       "      <td>10.3745</td>\n",
       "      <td>785.1552</td>\n",
       "    </tr>\n",
       "    <tr>\n",
       "      <th>3</th>\n",
       "      <td>A0118150101</td>\n",
       "      <td>Internal HDD</td>\n",
       "      <td>AQ Dracula HDD – 3.5 Inch SATA 6 Gb/s 5400 RPM...</td>\n",
       "      <td>Standard</td>\n",
       "      <td>2018</td>\n",
       "      <td>15.3952</td>\n",
       "      <td>2017-09-01</td>\n",
       "      <td>51.0</td>\n",
       "      <td>2018</td>\n",
       "      <td>2021</td>\n",
       "      <td>5.5172</td>\n",
       "      <td>64.162856</td>\n",
       "      <td>9.8780</td>\n",
       "      <td>785.1552</td>\n",
       "    </tr>\n",
       "    <tr>\n",
       "      <th>4</th>\n",
       "      <td>A0118150101</td>\n",
       "      <td>Internal HDD</td>\n",
       "      <td>AQ Dracula HDD – 3.5 Inch SATA 6 Gb/s 5400 RPM...</td>\n",
       "      <td>Standard</td>\n",
       "      <td>2018</td>\n",
       "      <td>15.3952</td>\n",
       "      <td>2017-09-01</td>\n",
       "      <td>77.0</td>\n",
       "      <td>2018</td>\n",
       "      <td>2018</td>\n",
       "      <td>4.6190</td>\n",
       "      <td>69.997142</td>\n",
       "      <td>10.7762</td>\n",
       "      <td>1185.4304</td>\n",
       "    </tr>\n",
       "    <tr>\n",
       "      <th>5</th>\n",
       "      <td>A0118150101</td>\n",
       "      <td>Internal HDD</td>\n",
       "      <td>AQ Dracula HDD – 3.5 Inch SATA 6 Gb/s 5400 RPM...</td>\n",
       "      <td>Standard</td>\n",
       "      <td>2018</td>\n",
       "      <td>15.3952</td>\n",
       "      <td>2017-09-01</td>\n",
       "      <td>77.0</td>\n",
       "      <td>2018</td>\n",
       "      <td>2019</td>\n",
       "      <td>4.2033</td>\n",
       "      <td>72.697334</td>\n",
       "      <td>11.1919</td>\n",
       "      <td>1185.4304</td>\n",
       "    </tr>\n",
       "    <tr>\n",
       "      <th>6</th>\n",
       "      <td>A0118150101</td>\n",
       "      <td>Internal HDD</td>\n",
       "      <td>AQ Dracula HDD – 3.5 Inch SATA 6 Gb/s 5400 RPM...</td>\n",
       "      <td>Standard</td>\n",
       "      <td>2018</td>\n",
       "      <td>15.3952</td>\n",
       "      <td>2017-09-01</td>\n",
       "      <td>77.0</td>\n",
       "      <td>2018</td>\n",
       "      <td>2020</td>\n",
       "      <td>5.0207</td>\n",
       "      <td>67.387887</td>\n",
       "      <td>10.3745</td>\n",
       "      <td>1185.4304</td>\n",
       "    </tr>\n",
       "    <tr>\n",
       "      <th>7</th>\n",
       "      <td>A0118150101</td>\n",
       "      <td>Internal HDD</td>\n",
       "      <td>AQ Dracula HDD – 3.5 Inch SATA 6 Gb/s 5400 RPM...</td>\n",
       "      <td>Standard</td>\n",
       "      <td>2018</td>\n",
       "      <td>15.3952</td>\n",
       "      <td>2017-09-01</td>\n",
       "      <td>77.0</td>\n",
       "      <td>2018</td>\n",
       "      <td>2021</td>\n",
       "      <td>5.5172</td>\n",
       "      <td>64.162856</td>\n",
       "      <td>9.8780</td>\n",
       "      <td>1185.4304</td>\n",
       "    </tr>\n",
       "    <tr>\n",
       "      <th>8</th>\n",
       "      <td>A0118150101</td>\n",
       "      <td>Internal HDD</td>\n",
       "      <td>AQ Dracula HDD – 3.5 Inch SATA 6 Gb/s 5400 RPM...</td>\n",
       "      <td>Standard</td>\n",
       "      <td>2018</td>\n",
       "      <td>15.3952</td>\n",
       "      <td>2017-09-01</td>\n",
       "      <td>17.0</td>\n",
       "      <td>2018</td>\n",
       "      <td>2018</td>\n",
       "      <td>4.6190</td>\n",
       "      <td>69.997142</td>\n",
       "      <td>10.7762</td>\n",
       "      <td>261.7184</td>\n",
       "    </tr>\n",
       "    <tr>\n",
       "      <th>9</th>\n",
       "      <td>A0118150101</td>\n",
       "      <td>Internal HDD</td>\n",
       "      <td>AQ Dracula HDD – 3.5 Inch SATA 6 Gb/s 5400 RPM...</td>\n",
       "      <td>Standard</td>\n",
       "      <td>2018</td>\n",
       "      <td>15.3952</td>\n",
       "      <td>2017-09-01</td>\n",
       "      <td>17.0</td>\n",
       "      <td>2018</td>\n",
       "      <td>2019</td>\n",
       "      <td>4.2033</td>\n",
       "      <td>72.697334</td>\n",
       "      <td>11.1919</td>\n",
       "      <td>261.7184</td>\n",
       "    </tr>\n",
       "  </tbody>\n",
       "</table>\n",
       "</div>"
      ],
      "text/plain": [
       "  product_code      category  \\\n",
       "0  A0118150101  Internal HDD   \n",
       "1  A0118150101  Internal HDD   \n",
       "2  A0118150101  Internal HDD   \n",
       "3  A0118150101  Internal HDD   \n",
       "4  A0118150101  Internal HDD   \n",
       "5  A0118150101  Internal HDD   \n",
       "6  A0118150101  Internal HDD   \n",
       "7  A0118150101  Internal HDD   \n",
       "8  A0118150101  Internal HDD   \n",
       "9  A0118150101  Internal HDD   \n",
       "\n",
       "                                             product   variant  fiscal_year_x  \\\n",
       "0  AQ Dracula HDD – 3.5 Inch SATA 6 Gb/s 5400 RPM...  Standard           2018   \n",
       "1  AQ Dracula HDD – 3.5 Inch SATA 6 Gb/s 5400 RPM...  Standard           2018   \n",
       "2  AQ Dracula HDD – 3.5 Inch SATA 6 Gb/s 5400 RPM...  Standard           2018   \n",
       "3  AQ Dracula HDD – 3.5 Inch SATA 6 Gb/s 5400 RPM...  Standard           2018   \n",
       "4  AQ Dracula HDD – 3.5 Inch SATA 6 Gb/s 5400 RPM...  Standard           2018   \n",
       "5  AQ Dracula HDD – 3.5 Inch SATA 6 Gb/s 5400 RPM...  Standard           2018   \n",
       "6  AQ Dracula HDD – 3.5 Inch SATA 6 Gb/s 5400 RPM...  Standard           2018   \n",
       "7  AQ Dracula HDD – 3.5 Inch SATA 6 Gb/s 5400 RPM...  Standard           2018   \n",
       "8  AQ Dracula HDD – 3.5 Inch SATA 6 Gb/s 5400 RPM...  Standard           2018   \n",
       "9  AQ Dracula HDD – 3.5 Inch SATA 6 Gb/s 5400 RPM...  Standard           2018   \n",
       "\n",
       "   gross_price       date  sold_quantity  fiscal_year_y  cost_year  \\\n",
       "0      15.3952 2017-09-01           51.0           2018       2018   \n",
       "1      15.3952 2017-09-01           51.0           2018       2019   \n",
       "2      15.3952 2017-09-01           51.0           2018       2020   \n",
       "3      15.3952 2017-09-01           51.0           2018       2021   \n",
       "4      15.3952 2017-09-01           77.0           2018       2018   \n",
       "5      15.3952 2017-09-01           77.0           2018       2019   \n",
       "6      15.3952 2017-09-01           77.0           2018       2020   \n",
       "7      15.3952 2017-09-01           77.0           2018       2021   \n",
       "8      15.3952 2017-09-01           17.0           2018       2018   \n",
       "9      15.3952 2017-09-01           17.0           2018       2019   \n",
       "\n",
       "   manufacturing_cost  gross_margin   profit    revenue  \n",
       "0              4.6190     69.997142  10.7762   785.1552  \n",
       "1              4.2033     72.697334  11.1919   785.1552  \n",
       "2              5.0207     67.387887  10.3745   785.1552  \n",
       "3              5.5172     64.162856   9.8780   785.1552  \n",
       "4              4.6190     69.997142  10.7762  1185.4304  \n",
       "5              4.2033     72.697334  11.1919  1185.4304  \n",
       "6              5.0207     67.387887  10.3745  1185.4304  \n",
       "7              5.5172     64.162856   9.8780  1185.4304  \n",
       "8              4.6190     69.997142  10.7762   261.7184  \n",
       "9              4.2033     72.697334  11.1919   261.7184  "
      ]
     },
     "execution_count": 63,
     "metadata": {},
     "output_type": "execute_result"
    }
   ],
   "source": [
    "products['gross_margin'] = ((products['gross_price'] - products['manufacturing_cost']) / products['gross_price'] * 100)\n",
    "products['profit'] = (products['gross_price'] - products['manufacturing_cost'])\n",
    "products['revenue'] = products['gross_price'] * products['sold_quantity']\n",
    "products.head(10)"
   ]
  },
  {
   "cell_type": "code",
   "execution_count": 64,
   "metadata": {},
   "outputs": [],
   "source": [
    "products['Month'] = products['date'].dt.month \n",
    "products['Year'] = products['date'].dt.year\n"
   ]
  },
  {
   "cell_type": "code",
   "execution_count": 65,
   "metadata": {},
   "outputs": [
    {
     "data": {
      "text/plain": [
       "[2017, 2018, 2019, 2020, 2021]"
      ]
     },
     "execution_count": 65,
     "metadata": {},
     "output_type": "execute_result"
    }
   ],
   "source": [
    "years = [unique for unique in products.Year.unique()]\n",
    "years"
   ]
  },
  {
   "cell_type": "code",
   "execution_count": 66,
   "metadata": {},
   "outputs": [],
   "source": [
    "def plot_trend(years:list, products):\n",
    "    for year in years:\n",
    "        new_df = products[products['Year'] == year]\n",
    "        new_df.groupby('date')['profit'].sum().plot(linewidth=1.2, \n",
    "                                             ylabel='Revenue', \n",
    "                                             xlabel='date', \n",
    "                                             title='Sales Trend');"
   ]
  },
  {
   "cell_type": "code",
   "execution_count": 67,
   "metadata": {},
   "outputs": [
    {
     "data": {
      "image/png": "[encoded data removed]",
      "text/plain": [
       "<Figure size 640x480 with 1 Axes>"
      ]
     },
     "metadata": {},
     "output_type": "display_data"
    }
   ],
   "source": [
    "year1 = patches.Patch(color='blue', label='2017')\n",
    "year2 = patches.Patch(color='green', label='2018')\n",
    "year3 = patches.Patch(color='red', label='2019')\n",
    "year4 = patches.Patch(color='black', label='2020')\n",
    "year5 = patches.Patch(color='yellow', label='2021')\n",
    "plot_trend(years, products)\n",
    "plt.legend(handles=[year1,year2,year3,year4, year5], loc=2);"
   ]
  },
  {
   "cell_type": "code",
   "execution_count": 83,
   "metadata": {},
   "outputs": [
    {
     "data": {
      "text/html": [
       "<div>\n",
       "<style scoped>\n",
       "    .dataframe tbody tr th:only-of-type {\n",
       "        vertical-align: middle;\n",
       "    }\n",
       "\n",
       "    .dataframe tbody tr th {\n",
       "        vertical-align: top;\n",
       "    }\n",
       "\n",
       "    .dataframe thead th {\n",
       "        text-align: right;\n",
       "    }\n",
       "</style>\n",
       "<table border=\"1\" class=\"dataframe\">\n",
       "  <thead>\n",
       "    <tr style=\"text-align: right;\">\n",
       "      <th></th>\n",
       "      <th>profit</th>\n",
       "    </tr>\n",
       "    <tr>\n",
       "      <th>product</th>\n",
       "      <th></th>\n",
       "    </tr>\n",
       "  </thead>\n",
       "  <tbody>\n",
       "    <tr>\n",
       "      <th>AQ Dracula HDD – 3.5 Inch SATA 6 Gb/s 5400 RPM 256 MB Cache</th>\n",
       "      <td>7.386356e+06</td>\n",
       "    </tr>\n",
       "    <tr>\n",
       "      <th>AQ WereWolf NAS Internal Hard Drive HDD – 8.89 cm</th>\n",
       "      <td>3.647909e+06</td>\n",
       "    </tr>\n",
       "    <tr>\n",
       "      <th>AQ Mforce Gen X</th>\n",
       "      <td>3.645684e+06</td>\n",
       "    </tr>\n",
       "    <tr>\n",
       "      <th>AQ Zion Saga</th>\n",
       "      <td>1.052380e+06</td>\n",
       "    </tr>\n",
       "  </tbody>\n",
       "</table>\n",
       "</div>"
      ],
      "text/plain": [
       "                                                          profit\n",
       "product                                                         \n",
       "AQ Dracula HDD – 3.5 Inch SATA 6 Gb/s 5400 RPM ...  7.386356e+06\n",
       "AQ WereWolf NAS Internal Hard Drive HDD – 8.89 cm   3.647909e+06\n",
       "AQ Mforce Gen X                                     3.645684e+06\n",
       "AQ Zion Saga                                        1.052380e+06"
      ]
     },
     "execution_count": 83,
     "metadata": {},
     "output_type": "execute_result"
    }
   ],
   "source": [
    "product_profit = products[['product','product_code', 'profit']].groupby('product').sum().sort_values(ascending=False,by='profit')\n",
    "product_profit"
   ]
  },
  {
   "cell_type": "code",
   "execution_count": 84,
   "metadata": {},
   "outputs": [
    {
     "data": {
      "image/png": "[encoded data removed]",
      "text/plain": [
       "<Figure size 640x480 with 1 Axes>"
      ]
     },
     "metadata": {},
     "output_type": "display_data"
    }
   ],
   "source": [
    "product_profit.groupby(by=['product'])['profit'].sum().sort_values(ascending=True).plot(\n",
    "                                                                                          kind='bar',ylabel='Revenue',title='Product Profit');"
   ]
  },
  {
   "cell_type": "code",
   "execution_count": 79,
   "metadata": {},
   "outputs": [
    {
     "data": {
      "text/plain": [
       "<matplotlib.collections.LineCollection at 0x7fb34e6c5700>"
      ]
     },
     "execution_count": 79,
     "metadata": {},
     "output_type": "execute_result"
    },
    {
     "data": {
      "image/png": "[encoded data removed]",
      "text/plain": [
       "<Figure size 640x480 with 1 Axes>"
      ]
     },
     "metadata": {},
     "output_type": "display_data"
    }
   ],
   "source": [
    "ax = products[['Month', 'sold_quantity', 'profit']].groupby('Month').sum().plot(\n",
    "                                                                 title='Monthly Sales Trend', \n",
    "                                                                 ylabel='Profit',\n",
    "                                                                 );\n",
    "ax.vlines(10,1,300000, linestyles='dashed')"
   ]
  },
  {
   "cell_type": "code",
   "execution_count": null,
   "metadata": {},
   "outputs": [
    {
     "data": {
      "text/plain": [
       "date\n",
       "2017    6.147471e+05\n",
       "2018    2.382110e+06\n",
       "2019    3.852431e+06\n",
       "2020    4.512615e+06\n",
       "2021    4.370426e+06\n",
       "Name: profit, dtype: float64"
      ]
     },
     "execution_count": 27,
     "metadata": {},
     "output_type": "execute_result"
    }
   ],
   "source": [
    "products.groupby(products.date.dt.year)['profit'].sum()"
   ]
  },
  {
   "cell_type": "code",
   "execution_count": 73,
   "metadata": {},
   "outputs": [
    {
     "data": {
      "application/vnd.plotly.v1+json": {
       "config": {
        "plotlyServerURL": "https://plot.ly"
       },
       "data": [
        {
         "hovertemplate": "Year=%{x}<br>profit=%{y}<extra></extra>",
         "legendgroup": "",
         "line": {
          "color": "#636efa",
          "dash": "solid"
         },
         "marker": {
          "symbol": "circle"
         },
         "mode": "lines",
         "name": "",
         "orientation": "v",
         "showlegend": false,
         "type": "scatter",
         "x": [
          2017,
          2018,
          2019,
          2020,
          2021
         ],
         "xaxis": "x",
         "y": [
          614747.1196,
          2382110.4641,
          3852430.8043,
          4512614.627,
          4370426.4499
         ],
         "yaxis": "y"
        }
       ],
       "layout": {
        "legend": {
         "tracegroupgap": 0
        },
        "template": {
         "data": {
          "bar": [
           {
            "error_x": {
             "color": "#2a3f5f"
            },
            "error_y": {
             "color": "#2a3f5f"
            },
            "marker": {
             "line": {
              "color": "#E5ECF6",
              "width": 0.5
             },
             "pattern": {
              "fillmode": "overlay",
              "size": 10,
              "solidity": 0.2
             }
            },
            "type": "bar"
           }
          ],
          "barpolar": [
           {
            "marker": {
             "line": {
              "color": "#E5ECF6",
              "width": 0.5
             },
             "pattern": {
              "fillmode": "overlay",
              "size": 10,
              "solidity": 0.2
             }
            },
            "type": "barpolar"
           }
          ],
          "carpet": [
           {
            "aaxis": {
             "endlinecolor": "#2a3f5f",
             "gridcolor": "white",
             "linecolor": "white",
             "minorgridcolor": "white",
             "startlinecolor": "#2a3f5f"
            },
            "baxis": {
             "endlinecolor": "#2a3f5f",
             "gridcolor": "white",
             "linecolor": "white",
             "minorgridcolor": "white",
             "startlinecolor": "#2a3f5f"
            },
            "type": "carpet"
           }
          ],
          "choropleth": [
           {
            "colorbar": {
             "outlinewidth": 0,
             "ticks": ""
            },
            "type": "choropleth"
           }
          ],
          "contour": [
           {
            "colorbar": {
             "outlinewidth": 0,
             "ticks": ""
            },
            "colorscale": [
             [
              0,
              "#0d0887"
             ],
             [
              0.1111111111111111,
              "#46039f"
             ],
             [
              0.2222222222222222,
              "#7201a8"
             ],
             [
              0.3333333333333333,
              "#9c179e"
             ],
             [
              0.4444444444444444,
              "#bd3786"
             ],
             [
              0.5555555555555556,
              "#d8576b"
             ],
             [
              0.6666666666666666,
              "#ed7953"
             ],
             [
              0.7777777777777778,
              "#fb9f3a"
             ],
             [
              0.8888888888888888,
              "#fdca26"
             ],
             [
              1,
              "#f0f921"
             ]
            ],
            "type": "contour"
           }
          ],
          "contourcarpet": [
           {
            "colorbar": {
             "outlinewidth": 0,
             "ticks": ""
            },
            "type": "contourcarpet"
           }
          ],
          "heatmap": [
           {
            "colorbar": {
             "outlinewidth": 0,
             "ticks": ""
            },
            "colorscale": [
             [
              0,
              "#0d0887"
             ],
             [
              0.1111111111111111,
              "#46039f"
             ],
             [
              0.2222222222222222,
              "#7201a8"
             ],
             [
              0.3333333333333333,
              "#9c179e"
             ],
             [
              0.4444444444444444,
              "#bd3786"
             ],
             [
              0.5555555555555556,
              "#d8576b"
             ],
             [
              0.6666666666666666,
              "#ed7953"
             ],
             [
              0.7777777777777778,
              "#fb9f3a"
             ],
             [
              0.8888888888888888,
              "#fdca26"
             ],
             [
              1,
              "#f0f921"
             ]
            ],
            "type": "heatmap"
           }
          ],
          "heatmapgl": [
           {
            "colorbar": {
             "outlinewidth": 0,
             "ticks": ""
            },
            "colorscale": [
             [
              0,
              "#0d0887"
             ],
             [
              0.1111111111111111,
              "#46039f"
             ],
             [
              0.2222222222222222,
              "#7201a8"
             ],
             [
              0.3333333333333333,
              "#9c179e"
             ],
             [
              0.4444444444444444,
              "#bd3786"
             ],
             [
              0.5555555555555556,
              "#d8576b"
             ],
             [
              0.6666666666666666,
              "#ed7953"
             ],
             [
              0.7777777777777778,
              "#fb9f3a"
             ],
             [
              0.8888888888888888,
              "#fdca26"
             ],
             [
              1,
              "#f0f921"
             ]
            ],
            "type": "heatmapgl"
           }
          ],
          "histogram": [
           {
            "marker": {
             "pattern": {
              "fillmode": "overlay",
              "size": 10,
              "solidity": 0.2
             }
            },
            "type": "histogram"
           }
          ],
          "histogram2d": [
           {
            "colorbar": {
             "outlinewidth": 0,
             "ticks": ""
            },
            "colorscale": [
             [
              0,
              "#0d0887"
             ],
             [
              0.1111111111111111,
              "#46039f"
             ],
             [
              0.2222222222222222,
              "#7201a8"
             ],
             [
              0.3333333333333333,
              "#9c179e"
             ],
             [
              0.4444444444444444,
              "#bd3786"
             ],
             [
              0.5555555555555556,
              "#d8576b"
             ],
             [
              0.6666666666666666,
              "#ed7953"
             ],
             [
              0.7777777777777778,
              "#fb9f3a"
             ],
             [
              0.8888888888888888,
              "#fdca26"
             ],
             [
              1,
              "#f0f921"
             ]
            ],
            "type": "histogram2d"
           }
          ],
          "histogram2dcontour": [
           {
            "colorbar": {
             "outlinewidth": 0,
             "ticks": ""
            },
            "colorscale": [
             [
              0,
              "#0d0887"
             ],
             [
              0.1111111111111111,
              "#46039f"
             ],
             [
              0.2222222222222222,
              "#7201a8"
             ],
             [
              0.3333333333333333,
              "#9c179e"
             ],
             [
              0.4444444444444444,
              "#bd3786"
             ],
             [
              0.5555555555555556,
              "#d8576b"
             ],
             [
              0.6666666666666666,
              "#ed7953"
             ],
             [
              0.7777777777777778,
              "#fb9f3a"
             ],
             [
              0.8888888888888888,
              "#fdca26"
             ],
             [
              1,
              "#f0f921"
             ]
            ],
            "type": "histogram2dcontour"
           }
          ],
          "mesh3d": [
           {
            "colorbar": {
             "outlinewidth": 0,
             "ticks": ""
            },
            "type": "mesh3d"
           }
          ],
          "parcoords": [
           {
            "line": {
             "colorbar": {
              "outlinewidth": 0,
              "ticks": ""
             }
            },
            "type": "parcoords"
           }
          ],
          "pie": [
           {
            "automargin": true,
            "type": "pie"
           }
          ],
          "scatter": [
           {
            "fillpattern": {
             "fillmode": "overlay",
             "size": 10,
             "solidity": 0.2
            },
            "type": "scatter"
           }
          ],
          "scatter3d": [
           {
            "line": {
             "colorbar": {
              "outlinewidth": 0,
              "ticks": ""
             }
            },
            "marker": {
             "colorbar": {
              "outlinewidth": 0,
              "ticks": ""
             }
            },
            "type": "scatter3d"
           }
          ],
          "scattercarpet": [
           {
            "marker": {
             "colorbar": {
              "outlinewidth": 0,
              "ticks": ""
             }
            },
            "type": "scattercarpet"
           }
          ],
          "scattergeo": [
           {
            "marker": {
             "colorbar": {
              "outlinewidth": 0,
              "ticks": ""
             }
            },
            "type": "scattergeo"
           }
          ],
          "scattergl": [
           {
            "marker": {
             "colorbar": {
              "outlinewidth": 0,
              "ticks": ""
             }
            },
            "type": "scattergl"
           }
          ],
          "scattermapbox": [
           {
            "marker": {
             "colorbar": {
              "outlinewidth": 0,
              "ticks": ""
             }
            },
            "type": "scattermapbox"
           }
          ],
          "scatterpolar": [
           {
            "marker": {
             "colorbar": {
              "outlinewidth": 0,
              "ticks": ""
             }
            },
            "type": "scatterpolar"
           }
          ],
          "scatterpolargl": [
           {
            "marker": {
             "colorbar": {
              "outlinewidth": 0,
              "ticks": ""
             }
            },
            "type": "scatterpolargl"
           }
          ],
          "scatterternary": [
           {
            "marker": {
             "colorbar": {
              "outlinewidth": 0,
              "ticks": ""
             }
            },
            "type": "scatterternary"
           }
          ],
          "surface": [
           {
            "colorbar": {
             "outlinewidth": 0,
             "ticks": ""
            },
            "colorscale": [
             [
              0,
              "#0d0887"
             ],
             [
              0.1111111111111111,
              "#46039f"
             ],
             [
              0.2222222222222222,
              "#7201a8"
             ],
             [
              0.3333333333333333,
              "#9c179e"
             ],
             [
              0.4444444444444444,
              "#bd3786"
             ],
             [
              0.5555555555555556,
              "#d8576b"
             ],
             [
              0.6666666666666666,
              "#ed7953"
             ],
             [
              0.7777777777777778,
              "#fb9f3a"
             ],
             [
              0.8888888888888888,
              "#fdca26"
             ],
             [
              1,
              "#f0f921"
             ]
            ],
            "type": "surface"
           }
          ],
          "table": [
           {
            "cells": {
             "fill": {
              "color": "#EBF0F8"
             },
             "line": {
              "color": "white"
             }
            },
            "header": {
             "fill": {
              "color": "#C8D4E3"
             },
             "line": {
              "color": "white"
             }
            },
            "type": "table"
           }
          ]
         },
         "layout": {
          "annotationdefaults": {
           "arrowcolor": "#2a3f5f",
           "arrowhead": 0,
           "arrowwidth": 1
          },
          "autotypenumbers": "strict",
          "coloraxis": {
           "colorbar": {
            "outlinewidth": 0,
            "ticks": ""
           }
          },
          "colorscale": {
           "diverging": [
            [
             0,
             "#8e0152"
            ],
            [
             0.1,
             "#c51b7d"
            ],
            [
             0.2,
             "#de77ae"
            ],
            [
             0.3,
             "#f1b6da"
            ],
            [
             0.4,
             "#fde0ef"
            ],
            [
             0.5,
             "#f7f7f7"
            ],
            [
             0.6,
             "#e6f5d0"
            ],
            [
             0.7,
             "#b8e186"
            ],
            [
             0.8,
             "#7fbc41"
            ],
            [
             0.9,
             "#4d9221"
            ],
            [
             1,
             "#276419"
            ]
           ],
           "sequential": [
            [
             0,
             "#0d0887"
            ],
            [
             0.1111111111111111,
             "#46039f"
            ],
            [
             0.2222222222222222,
             "#7201a8"
            ],
            [
             0.3333333333333333,
             "#9c179e"
            ],
            [
             0.4444444444444444,
             "#bd3786"
            ],
            [
             0.5555555555555556,
             "#d8576b"
            ],
            [
             0.6666666666666666,
             "#ed7953"
            ],
            [
             0.7777777777777778,
             "#fb9f3a"
            ],
            [
             0.8888888888888888,
             "#fdca26"
            ],
            [
             1,
             "#f0f921"
            ]
           ],
           "sequentialminus": [
            [
             0,
             "#0d0887"
            ],
            [
             0.1111111111111111,
             "#46039f"
            ],
            [
             0.2222222222222222,
             "#7201a8"
            ],
            [
             0.3333333333333333,
             "#9c179e"
            ],
            [
             0.4444444444444444,
             "#bd3786"
            ],
            [
             0.5555555555555556,
             "#d8576b"
            ],
            [
             0.6666666666666666,
             "#ed7953"
            ],
            [
             0.7777777777777778,
             "#fb9f3a"
            ],
            [
             0.8888888888888888,
             "#fdca26"
            ],
            [
             1,
             "#f0f921"
            ]
           ]
          },
          "colorway": [
           "#636efa",
           "#EF553B",
           "#00cc96",
           "#ab63fa",
           "#FFA15A",
           "#19d3f3",
           "#FF6692",
           "#B6E880",
           "#FF97FF",
           "#FECB52"
          ],
          "font": {
           "color": "#2a3f5f"
          },
          "geo": {
           "bgcolor": "white",
           "lakecolor": "white",
           "landcolor": "#E5ECF6",
           "showlakes": true,
           "showland": true,
           "subunitcolor": "white"
          },
          "hoverlabel": {
           "align": "left"
          },
          "hovermode": "closest",
          "mapbox": {
           "style": "light"
          },
          "paper_bgcolor": "white",
          "plot_bgcolor": "#E5ECF6",
          "polar": {
           "angularaxis": {
            "gridcolor": "white",
            "linecolor": "white",
            "ticks": ""
           },
           "bgcolor": "#E5ECF6",
           "radialaxis": {
            "gridcolor": "white",
            "linecolor": "white",
            "ticks": ""
           }
          },
          "scene": {
           "xaxis": {
            "backgroundcolor": "#E5ECF6",
            "gridcolor": "white",
            "gridwidth": 2,
            "linecolor": "white",
            "showbackground": true,
            "ticks": "",
            "zerolinecolor": "white"
           },
           "yaxis": {
            "backgroundcolor": "#E5ECF6",
            "gridcolor": "white",
            "gridwidth": 2,
            "linecolor": "white",
            "showbackground": true,
            "ticks": "",
            "zerolinecolor": "white"
           },
           "zaxis": {
            "backgroundcolor": "#E5ECF6",
            "gridcolor": "white",
            "gridwidth": 2,
            "linecolor": "white",
            "showbackground": true,
            "ticks": "",
            "zerolinecolor": "white"
           }
          },
          "shapedefaults": {
           "line": {
            "color": "#2a3f5f"
           }
          },
          "ternary": {
           "aaxis": {
            "gridcolor": "white",
            "linecolor": "white",
            "ticks": ""
           },
           "baxis": {
            "gridcolor": "white",
            "linecolor": "white",
            "ticks": ""
           },
           "bgcolor": "#E5ECF6",
           "caxis": {
            "gridcolor": "white",
            "linecolor": "white",
            "ticks": ""
           }
          },
          "title": {
           "x": 0.05
          },
          "xaxis": {
           "automargin": true,
           "gridcolor": "white",
           "linecolor": "white",
           "ticks": "",
           "title": {
            "standoff": 15
           },
           "zerolinecolor": "white",
           "zerolinewidth": 2
          },
          "yaxis": {
           "automargin": true,
           "gridcolor": "white",
           "linecolor": "white",
           "ticks": "",
           "title": {
            "standoff": 15
           },
           "zerolinecolor": "white",
           "zerolinewidth": 2
          }
         }
        },
        "title": {
         "text": "Yearly Sales Analysis"
        },
        "xaxis": {
         "anchor": "y",
         "domain": [
          0,
          1
         ],
         "title": {
          "text": "Year"
         }
        },
        "yaxis": {
         "anchor": "x",
         "domain": [
          0,
          1
         ],
         "title": {
          "text": "profit"
         }
        }
       }
      }
     },
     "metadata": {},
     "output_type": "display_data"
    }
   ],
   "source": [
    "sales_by_year = products.groupby('Year')['profit'].sum().reset_index()\n",
    "fig = px.line(sales_by_year, \n",
    "              x='Year', \n",
    "              y='profit', \n",
    "              title='Yearly Sales Analysis')\n",
    "fig.show()"
   ]
  },
  {
   "cell_type": "code",
   "execution_count": 74,
   "metadata": {},
   "outputs": [
    {
     "data": {
      "application/vnd.plotly.v1+json": {
       "config": {
        "plotlyServerURL": "https://plot.ly"
       },
       "data": [
        {
         "hovertemplate": "Month=%{x}<br>profit=%{y}<extra></extra>",
         "legendgroup": "",
         "line": {
          "color": "#636efa",
          "dash": "solid"
         },
         "marker": {
          "symbol": "circle"
         },
         "mode": "lines",
         "name": "",
         "orientation": "v",
         "showlegend": false,
         "type": "scatter",
         "x": [
          1,
          2,
          3,
          4,
          5,
          6,
          7,
          8,
          9,
          10,
          11,
          12
         ],
         "xaxis": "x",
         "y": [
          1222409.1686,
          1222190.9215,
          1162790.6981,
          1188509.5762,
          1196031.8055,
          1191591.8801,
          1178476.7147,
          1172732.2341,
          1559085.1972,
          1547925.6361,
          1550264.6998,
          1540320.933
         ],
         "yaxis": "y"
        }
       ],
       "layout": {
        "legend": {
         "tracegroupgap": 0
        },
        "template": {
         "data": {
          "bar": [
           {
            "error_x": {
             "color": "#2a3f5f"
            },
            "error_y": {
             "color": "#2a3f5f"
            },
            "marker": {
             "line": {
              "color": "#E5ECF6",
              "width": 0.5
             },
             "pattern": {
              "fillmode": "overlay",
              "size": 10,
              "solidity": 0.2
             }
            },
            "type": "bar"
           }
          ],
          "barpolar": [
           {
            "marker": {
             "line": {
              "color": "#E5ECF6",
              "width": 0.5
             },
             "pattern": {
              "fillmode": "overlay",
              "size": 10,
              "solidity": 0.2
             }
            },
            "type": "barpolar"
           }
          ],
          "carpet": [
           {
            "aaxis": {
             "endlinecolor": "#2a3f5f",
             "gridcolor": "white",
             "linecolor": "white",
             "minorgridcolor": "white",
             "startlinecolor": "#2a3f5f"
            },
            "baxis": {
             "endlinecolor": "#2a3f5f",
             "gridcolor": "white",
             "linecolor": "white",
             "minorgridcolor": "white",
             "startlinecolor": "#2a3f5f"
            },
            "type": "carpet"
           }
          ],
          "choropleth": [
           {
            "colorbar": {
             "outlinewidth": 0,
             "ticks": ""
            },
            "type": "choropleth"
           }
          ],
          "contour": [
           {
            "colorbar": {
             "outlinewidth": 0,
             "ticks": ""
            },
            "colorscale": [
             [
              0,
              "#0d0887"
             ],
             [
              0.1111111111111111,
              "#46039f"
             ],
             [
              0.2222222222222222,
              "#7201a8"
             ],
             [
              0.3333333333333333,
              "#9c179e"
             ],
             [
              0.4444444444444444,
              "#bd3786"
             ],
             [
              0.5555555555555556,
              "#d8576b"
             ],
             [
              0.6666666666666666,
              "#ed7953"
             ],
             [
              0.7777777777777778,
              "#fb9f3a"
             ],
             [
              0.8888888888888888,
              "#fdca26"
             ],
             [
              1,
              "#f0f921"
             ]
            ],
            "type": "contour"
           }
          ],
          "contourcarpet": [
           {
            "colorbar": {
             "outlinewidth": 0,
             "ticks": ""
            },
            "type": "contourcarpet"
           }
          ],
          "heatmap": [
           {
            "colorbar": {
             "outlinewidth": 0,
             "ticks": ""
            },
            "colorscale": [
             [
              0,
              "#0d0887"
             ],
             [
              0.1111111111111111,
              "#46039f"
             ],
             [
              0.2222222222222222,
              "#7201a8"
             ],
             [
              0.3333333333333333,
              "#9c179e"
             ],
             [
              0.4444444444444444,
              "#bd3786"
             ],
             [
              0.5555555555555556,
              "#d8576b"
             ],
             [
              0.6666666666666666,
              "#ed7953"
             ],
             [
              0.7777777777777778,
              "#fb9f3a"
             ],
             [
              0.8888888888888888,
              "#fdca26"
             ],
             [
              1,
              "#f0f921"
             ]
            ],
            "type": "heatmap"
           }
          ],
          "heatmapgl": [
           {
            "colorbar": {
             "outlinewidth": 0,
             "ticks": ""
            },
            "colorscale": [
             [
              0,
              "#0d0887"
             ],
             [
              0.1111111111111111,
              "#46039f"
             ],
             [
              0.2222222222222222,
              "#7201a8"
             ],
             [
              0.3333333333333333,
              "#9c179e"
             ],
             [
              0.4444444444444444,
              "#bd3786"
             ],
             [
              0.5555555555555556,
              "#d8576b"
             ],
             [
              0.6666666666666666,
              "#ed7953"
             ],
             [
              0.7777777777777778,
              "#fb9f3a"
             ],
             [
              0.8888888888888888,
              "#fdca26"
             ],
             [
              1,
              "#f0f921"
             ]
            ],
            "type": "heatmapgl"
           }
          ],
          "histogram": [
           {
            "marker": {
             "pattern": {
              "fillmode": "overlay",
              "size": 10,
              "solidity": 0.2
             }
            },
            "type": "histogram"
           }
          ],
          "histogram2d": [
           {
            "colorbar": {
             "outlinewidth": 0,
             "ticks": ""
            },
            "colorscale": [
             [
              0,
              "#0d0887"
             ],
             [
              0.1111111111111111,
              "#46039f"
             ],
             [
              0.2222222222222222,
              "#7201a8"
             ],
             [
              0.3333333333333333,
              "#9c179e"
             ],
             [
              0.4444444444444444,
              "#bd3786"
             ],
             [
              0.5555555555555556,
              "#d8576b"
             ],
             [
              0.6666666666666666,
              "#ed7953"
             ],
             [
              0.7777777777777778,
              "#fb9f3a"
             ],
             [
              0.8888888888888888,
              "#fdca26"
             ],
             [
              1,
              "#f0f921"
             ]
            ],
            "type": "histogram2d"
           }
          ],
          "histogram2dcontour": [
           {
            "colorbar": {
             "outlinewidth": 0,
             "ticks": ""
            },
            "colorscale": [
             [
              0,
              "#0d0887"
             ],
             [
              0.1111111111111111,
              "#46039f"
             ],
             [
              0.2222222222222222,
              "#7201a8"
             ],
             [
              0.3333333333333333,
              "#9c179e"
             ],
             [
              0.4444444444444444,
              "#bd3786"
             ],
             [
              0.5555555555555556,
              "#d8576b"
             ],
             [
              0.6666666666666666,
              "#ed7953"
             ],
             [
              0.7777777777777778,
              "#fb9f3a"
             ],
             [
              0.8888888888888888,
              "#fdca26"
             ],
             [
              1,
              "#f0f921"
             ]
            ],
            "type": "histogram2dcontour"
           }
          ],
          "mesh3d": [
           {
            "colorbar": {
             "outlinewidth": 0,
             "ticks": ""
            },
            "type": "mesh3d"
           }
          ],
          "parcoords": [
           {
            "line": {
             "colorbar": {
              "outlinewidth": 0,
              "ticks": ""
             }
            },
            "type": "parcoords"
           }
          ],
          "pie": [
           {
            "automargin": true,
            "type": "pie"
           }
          ],
          "scatter": [
           {
            "fillpattern": {
             "fillmode": "overlay",
             "size": 10,
             "solidity": 0.2
            },
            "type": "scatter"
           }
          ],
          "scatter3d": [
           {
            "line": {
             "colorbar": {
              "outlinewidth": 0,
              "ticks": ""
             }
            },
            "marker": {
             "colorbar": {
              "outlinewidth": 0,
              "ticks": ""
             }
            },
            "type": "scatter3d"
           }
          ],
          "scattercarpet": [
           {
            "marker": {
             "colorbar": {
              "outlinewidth": 0,
              "ticks": ""
             }
            },
            "type": "scattercarpet"
           }
          ],
          "scattergeo": [
           {
            "marker": {
             "colorbar": {
              "outlinewidth": 0,
              "ticks": ""
             }
            },
            "type": "scattergeo"
           }
          ],
          "scattergl": [
           {
            "marker": {
             "colorbar": {
              "outlinewidth": 0,
              "ticks": ""
             }
            },
            "type": "scattergl"
           }
          ],
          "scattermapbox": [
           {
            "marker": {
             "colorbar": {
              "outlinewidth": 0,
              "ticks": ""
             }
            },
            "type": "scattermapbox"
           }
          ],
          "scatterpolar": [
           {
            "marker": {
             "colorbar": {
              "outlinewidth": 0,
              "ticks": ""
             }
            },
            "type": "scatterpolar"
           }
          ],
          "scatterpolargl": [
           {
            "marker": {
             "colorbar": {
              "outlinewidth": 0,
              "ticks": ""
             }
            },
            "type": "scatterpolargl"
           }
          ],
          "scatterternary": [
           {
            "marker": {
             "colorbar": {
              "outlinewidth": 0,
              "ticks": ""
             }
            },
            "type": "scatterternary"
           }
          ],
          "surface": [
           {
            "colorbar": {
             "outlinewidth": 0,
             "ticks": ""
            },
            "colorscale": [
             [
              0,
              "#0d0887"
             ],
             [
              0.1111111111111111,
              "#46039f"
             ],
             [
              0.2222222222222222,
              "#7201a8"
             ],
             [
              0.3333333333333333,
              "#9c179e"
             ],
             [
              0.4444444444444444,
              "#bd3786"
             ],
             [
              0.5555555555555556,
              "#d8576b"
             ],
             [
              0.6666666666666666,
              "#ed7953"
             ],
             [
              0.7777777777777778,
              "#fb9f3a"
             ],
             [
              0.8888888888888888,
              "#fdca26"
             ],
             [
              1,
              "#f0f921"
             ]
            ],
            "type": "surface"
           }
          ],
          "table": [
           {
            "cells": {
             "fill": {
              "color": "#EBF0F8"
             },
             "line": {
              "color": "white"
             }
            },
            "header": {
             "fill": {
              "color": "#C8D4E3"
             },
             "line": {
              "color": "white"
             }
            },
            "type": "table"
           }
          ]
         },
         "layout": {
          "annotationdefaults": {
           "arrowcolor": "#2a3f5f",
           "arrowhead": 0,
           "arrowwidth": 1
          },
          "autotypenumbers": "strict",
          "coloraxis": {
           "colorbar": {
            "outlinewidth": 0,
            "ticks": ""
           }
          },
          "colorscale": {
           "diverging": [
            [
             0,
             "#8e0152"
            ],
            [
             0.1,
             "#c51b7d"
            ],
            [
             0.2,
             "#de77ae"
            ],
            [
             0.3,
             "#f1b6da"
            ],
            [
             0.4,
             "#fde0ef"
            ],
            [
             0.5,
             "#f7f7f7"
            ],
            [
             0.6,
             "#e6f5d0"
            ],
            [
             0.7,
             "#b8e186"
            ],
            [
             0.8,
             "#7fbc41"
            ],
            [
             0.9,
             "#4d9221"
            ],
            [
             1,
             "#276419"
            ]
           ],
           "sequential": [
            [
             0,
             "#0d0887"
            ],
            [
             0.1111111111111111,
             "#46039f"
            ],
            [
             0.2222222222222222,
             "#7201a8"
            ],
            [
             0.3333333333333333,
             "#9c179e"
            ],
            [
             0.4444444444444444,
             "#bd3786"
            ],
            [
             0.5555555555555556,
             "#d8576b"
            ],
            [
             0.6666666666666666,
             "#ed7953"
            ],
            [
             0.7777777777777778,
             "#fb9f3a"
            ],
            [
             0.8888888888888888,
             "#fdca26"
            ],
            [
             1,
             "#f0f921"
            ]
           ],
           "sequentialminus": [
            [
             0,
             "#0d0887"
            ],
            [
             0.1111111111111111,
             "#46039f"
            ],
            [
             0.2222222222222222,
             "#7201a8"
            ],
            [
             0.3333333333333333,
             "#9c179e"
            ],
            [
             0.4444444444444444,
             "#bd3786"
            ],
            [
             0.5555555555555556,
             "#d8576b"
            ],
            [
             0.6666666666666666,
             "#ed7953"
            ],
            [
             0.7777777777777778,
             "#fb9f3a"
            ],
            [
             0.8888888888888888,
             "#fdca26"
            ],
            [
             1,
             "#f0f921"
            ]
           ]
          },
          "colorway": [
           "#636efa",
           "#EF553B",
           "#00cc96",
           "#ab63fa",
           "#FFA15A",
           "#19d3f3",
           "#FF6692",
           "#B6E880",
           "#FF97FF",
           "#FECB52"
          ],
          "font": {
           "color": "#2a3f5f"
          },
          "geo": {
           "bgcolor": "white",
           "lakecolor": "white",
           "landcolor": "#E5ECF6",
           "showlakes": true,
           "showland": true,
           "subunitcolor": "white"
          },
          "hoverlabel": {
           "align": "left"
          },
          "hovermode": "closest",
          "mapbox": {
           "style": "light"
          },
          "paper_bgcolor": "white",
          "plot_bgcolor": "#E5ECF6",
          "polar": {
           "angularaxis": {
            "gridcolor": "white",
            "linecolor": "white",
            "ticks": ""
           },
           "bgcolor": "#E5ECF6",
           "radialaxis": {
            "gridcolor": "white",
            "linecolor": "white",
            "ticks": ""
           }
          },
          "scene": {
           "xaxis": {
            "backgroundcolor": "#E5ECF6",
            "gridcolor": "white",
            "gridwidth": 2,
            "linecolor": "white",
            "showbackground": true,
            "ticks": "",
            "zerolinecolor": "white"
           },
           "yaxis": {
            "backgroundcolor": "#E5ECF6",
            "gridcolor": "white",
            "gridwidth": 2,
            "linecolor": "white",
            "showbackground": true,
            "ticks": "",
            "zerolinecolor": "white"
           },
           "zaxis": {
            "backgroundcolor": "#E5ECF6",
            "gridcolor": "white",
            "gridwidth": 2,
            "linecolor": "white",
            "showbackground": true,
            "ticks": "",
            "zerolinecolor": "white"
           }
          },
          "shapedefaults": {
           "line": {
            "color": "#2a3f5f"
           }
          },
          "ternary": {
           "aaxis": {
            "gridcolor": "white",
            "linecolor": "white",
            "ticks": ""
           },
           "baxis": {
            "gridcolor": "white",
            "linecolor": "white",
            "ticks": ""
           },
           "bgcolor": "#E5ECF6",
           "caxis": {
            "gridcolor": "white",
            "linecolor": "white",
            "ticks": ""
           }
          },
          "title": {
           "x": 0.05
          },
          "xaxis": {
           "automargin": true,
           "gridcolor": "white",
           "linecolor": "white",
           "ticks": "",
           "title": {
            "standoff": 15
           },
           "zerolinecolor": "white",
           "zerolinewidth": 2
          },
          "yaxis": {
           "automargin": true,
           "gridcolor": "white",
           "linecolor": "white",
           "ticks": "",
           "title": {
            "standoff": 15
           },
           "zerolinecolor": "white",
           "zerolinewidth": 2
          }
         }
        },
        "title": {
         "text": "Monthly Sales Analysis"
        },
        "xaxis": {
         "anchor": "y",
         "domain": [
          0,
          1
         ],
         "title": {
          "text": "Month"
         }
        },
        "yaxis": {
         "anchor": "x",
         "domain": [
          0,
          1
         ],
         "title": {
          "text": "profit"
         }
        }
       }
      }
     },
     "metadata": {},
     "output_type": "display_data"
    }
   ],
   "source": [
    "sales_by_month = products.groupby('Month')['profit'].sum().reset_index()\n",
    "fig = px.line(sales_by_month, \n",
    "              x='Month', \n",
    "              y='profit', \n",
    "              title='Monthly Sales Analysis')\n",
    "fig.show()"
   ]
  },
  {
   "cell_type": "code",
   "execution_count": 75,
   "metadata": {},
   "outputs": [
    {
     "data": {
      "application/vnd.plotly.v1+json": {
       "config": {
        "plotlyServerURL": "https://plot.ly"
       },
       "data": [
        {
         "domain": {
          "x": [
           0,
           1
          ],
          "y": [
           0,
           1
          ]
         },
         "hole": 0.5,
         "hovertemplate": "category=%{label}<br>profit=%{value}<extra></extra>",
         "labels": [
          "Graphic Card",
          "Internal HDD"
         ],
         "legendgroup": "",
         "name": "",
         "showlegend": true,
         "textinfo": "percent+label",
         "textposition": "inside",
         "type": "pie",
         "values": [
          3645683.7256,
          12086645.7393
         ]
        }
       ],
       "layout": {
        "legend": {
         "tracegroupgap": 0
        },
        "margin": {
         "t": 60
        },
        "piecolorway": [
         "rgb(102, 197, 204)",
         "rgb(246, 207, 113)",
         "rgb(248, 156, 116)",
         "rgb(220, 176, 242)",
         "rgb(135, 197, 95)",
         "rgb(158, 185, 243)",
         "rgb(254, 136, 177)",
         "rgb(201, 219, 116)",
         "rgb(139, 224, 164)",
         "rgb(180, 151, 231)",
         "rgb(179, 179, 179)"
        ],
        "template": {
         "data": {
          "bar": [
           {
            "error_x": {
             "color": "#2a3f5f"
            },
            "error_y": {
             "color": "#2a3f5f"
            },
            "marker": {
             "line": {
              "color": "#E5ECF6",
              "width": 0.5
             },
             "pattern": {
              "fillmode": "overlay",
              "size": 10,
              "solidity": 0.2
             }
            },
            "type": "bar"
           }
          ],
          "barpolar": [
           {
            "marker": {
             "line": {
              "color": "#E5ECF6",
              "width": 0.5
             },
             "pattern": {
              "fillmode": "overlay",
              "size": 10,
              "solidity": 0.2
             }
            },
            "type": "barpolar"
           }
          ],
          "carpet": [
           {
            "aaxis": {
             "endlinecolor": "#2a3f5f",
             "gridcolor": "white",
             "linecolor": "white",
             "minorgridcolor": "white",
             "startlinecolor": "#2a3f5f"
            },
            "baxis": {
             "endlinecolor": "#2a3f5f",
             "gridcolor": "white",
             "linecolor": "white",
             "minorgridcolor": "white",
             "startlinecolor": "#2a3f5f"
            },
            "type": "carpet"
           }
          ],
          "choropleth": [
           {
            "colorbar": {
             "outlinewidth": 0,
             "ticks": ""
            },
            "type": "choropleth"
           }
          ],
          "contour": [
           {
            "colorbar": {
             "outlinewidth": 0,
             "ticks": ""
            },
            "colorscale": [
             [
              0,
              "#0d0887"
             ],
             [
              0.1111111111111111,
              "#46039f"
             ],
             [
              0.2222222222222222,
              "#7201a8"
             ],
             [
              0.3333333333333333,
              "#9c179e"
             ],
             [
              0.4444444444444444,
              "#bd3786"
             ],
             [
              0.5555555555555556,
              "#d8576b"
             ],
             [
              0.6666666666666666,
              "#ed7953"
             ],
             [
              0.7777777777777778,
              "#fb9f3a"
             ],
             [
              0.8888888888888888,
              "#fdca26"
             ],
             [
              1,
              "#f0f921"
             ]
            ],
            "type": "contour"
           }
          ],
          "contourcarpet": [
           {
            "colorbar": {
             "outlinewidth": 0,
             "ticks": ""
            },
            "type": "contourcarpet"
           }
          ],
          "heatmap": [
           {
            "colorbar": {
             "outlinewidth": 0,
             "ticks": ""
            },
            "colorscale": [
             [
              0,
              "#0d0887"
             ],
             [
              0.1111111111111111,
              "#46039f"
             ],
             [
              0.2222222222222222,
              "#7201a8"
             ],
             [
              0.3333333333333333,
              "#9c179e"
             ],
             [
              0.4444444444444444,
              "#bd3786"
             ],
             [
              0.5555555555555556,
              "#d8576b"
             ],
             [
              0.6666666666666666,
              "#ed7953"
             ],
             [
              0.7777777777777778,
              "#fb9f3a"
             ],
             [
              0.8888888888888888,
              "#fdca26"
             ],
             [
              1,
              "#f0f921"
             ]
            ],
            "type": "heatmap"
           }
          ],
          "heatmapgl": [
           {
            "colorbar": {
             "outlinewidth": 0,
             "ticks": ""
            },
            "colorscale": [
             [
              0,
              "#0d0887"
             ],
             [
              0.1111111111111111,
              "#46039f"
             ],
             [
              0.2222222222222222,
              "#7201a8"
             ],
             [
              0.3333333333333333,
              "#9c179e"
             ],
             [
              0.4444444444444444,
              "#bd3786"
             ],
             [
              0.5555555555555556,
              "#d8576b"
             ],
             [
              0.6666666666666666,
              "#ed7953"
             ],
             [
              0.7777777777777778,
              "#fb9f3a"
             ],
             [
              0.8888888888888888,
              "#fdca26"
             ],
             [
              1,
              "#f0f921"
             ]
            ],
            "type": "heatmapgl"
           }
          ],
          "histogram": [
           {
            "marker": {
             "pattern": {
              "fillmode": "overlay",
              "size": 10,
              "solidity": 0.2
             }
            },
            "type": "histogram"
           }
          ],
          "histogram2d": [
           {
            "colorbar": {
             "outlinewidth": 0,
             "ticks": ""
            },
            "colorscale": [
             [
              0,
              "#0d0887"
             ],
             [
              0.1111111111111111,
              "#46039f"
             ],
             [
              0.2222222222222222,
              "#7201a8"
             ],
             [
              0.3333333333333333,
              "#9c179e"
             ],
             [
              0.4444444444444444,
              "#bd3786"
             ],
             [
              0.5555555555555556,
              "#d8576b"
             ],
             [
              0.6666666666666666,
              "#ed7953"
             ],
             [
              0.7777777777777778,
              "#fb9f3a"
             ],
             [
              0.8888888888888888,
              "#fdca26"
             ],
             [
              1,
              "#f0f921"
             ]
            ],
            "type": "histogram2d"
           }
          ],
          "histogram2dcontour": [
           {
            "colorbar": {
             "outlinewidth": 0,
             "ticks": ""
            },
            "colorscale": [
             [
              0,
              "#0d0887"
             ],
             [
              0.1111111111111111,
              "#46039f"
             ],
             [
              0.2222222222222222,
              "#7201a8"
             ],
             [
              0.3333333333333333,
              "#9c179e"
             ],
             [
              0.4444444444444444,
              "#bd3786"
             ],
             [
              0.5555555555555556,
              "#d8576b"
             ],
             [
              0.6666666666666666,
              "#ed7953"
             ],
             [
              0.7777777777777778,
              "#fb9f3a"
             ],
             [
              0.8888888888888888,
              "#fdca26"
             ],
             [
              1,
              "#f0f921"
             ]
            ],
            "type": "histogram2dcontour"
           }
          ],
          "mesh3d": [
           {
            "colorbar": {
             "outlinewidth": 0,
             "ticks": ""
            },
            "type": "mesh3d"
           }
          ],
          "parcoords": [
           {
            "line": {
             "colorbar": {
              "outlinewidth": 0,
              "ticks": ""
             }
            },
            "type": "parcoords"
           }
          ],
          "pie": [
           {
            "automargin": true,
            "type": "pie"
           }
          ],
          "scatter": [
           {
            "fillpattern": {
             "fillmode": "overlay",
             "size": 10,
             "solidity": 0.2
            },
            "type": "scatter"
           }
          ],
          "scatter3d": [
           {
            "line": {
             "colorbar": {
              "outlinewidth": 0,
              "ticks": ""
             }
            },
            "marker": {
             "colorbar": {
              "outlinewidth": 0,
              "ticks": ""
             }
            },
            "type": "scatter3d"
           }
          ],
          "scattercarpet": [
           {
            "marker": {
             "colorbar": {
              "outlinewidth": 0,
              "ticks": ""
             }
            },
            "type": "scattercarpet"
           }
          ],
          "scattergeo": [
           {
            "marker": {
             "colorbar": {
              "outlinewidth": 0,
              "ticks": ""
             }
            },
            "type": "scattergeo"
           }
          ],
          "scattergl": [
           {
            "marker": {
             "colorbar": {
              "outlinewidth": 0,
              "ticks": ""
             }
            },
            "type": "scattergl"
           }
          ],
          "scattermapbox": [
           {
            "marker": {
             "colorbar": {
              "outlinewidth": 0,
              "ticks": ""
             }
            },
            "type": "scattermapbox"
           }
          ],
          "scatterpolar": [
           {
            "marker": {
             "colorbar": {
              "outlinewidth": 0,
              "ticks": ""
             }
            },
            "type": "scatterpolar"
           }
          ],
          "scatterpolargl": [
           {
            "marker": {
             "colorbar": {
              "outlinewidth": 0,
              "ticks": ""
             }
            },
            "type": "scatterpolargl"
           }
          ],
          "scatterternary": [
           {
            "marker": {
             "colorbar": {
              "outlinewidth": 0,
              "ticks": ""
             }
            },
            "type": "scatterternary"
           }
          ],
          "surface": [
           {
            "colorbar": {
             "outlinewidth": 0,
             "ticks": ""
            },
            "colorscale": [
             [
              0,
              "#0d0887"
             ],
             [
              0.1111111111111111,
              "#46039f"
             ],
             [
              0.2222222222222222,
              "#7201a8"
             ],
             [
              0.3333333333333333,
              "#9c179e"
             ],
             [
              0.4444444444444444,
              "#bd3786"
             ],
             [
              0.5555555555555556,
              "#d8576b"
             ],
             [
              0.6666666666666666,
              "#ed7953"
             ],
             [
              0.7777777777777778,
              "#fb9f3a"
             ],
             [
              0.8888888888888888,
              "#fdca26"
             ],
             [
              1,
              "#f0f921"
             ]
            ],
            "type": "surface"
           }
          ],
          "table": [
           {
            "cells": {
             "fill": {
              "color": "#EBF0F8"
             },
             "line": {
              "color": "white"
             }
            },
            "header": {
             "fill": {
              "color": "#C8D4E3"
             },
             "line": {
              "color": "white"
             }
            },
            "type": "table"
           }
          ]
         },
         "layout": {
          "annotationdefaults": {
           "arrowcolor": "#2a3f5f",
           "arrowhead": 0,
           "arrowwidth": 1
          },
          "autotypenumbers": "strict",
          "coloraxis": {
           "colorbar": {
            "outlinewidth": 0,
            "ticks": ""
           }
          },
          "colorscale": {
           "diverging": [
            [
             0,
             "#8e0152"
            ],
            [
             0.1,
             "#c51b7d"
            ],
            [
             0.2,
             "#de77ae"
            ],
            [
             0.3,
             "#f1b6da"
            ],
            [
             0.4,
             "#fde0ef"
            ],
            [
             0.5,
             "#f7f7f7"
            ],
            [
             0.6,
             "#e6f5d0"
            ],
            [
             0.7,
             "#b8e186"
            ],
            [
             0.8,
             "#7fbc41"
            ],
            [
             0.9,
             "#4d9221"
            ],
            [
             1,
             "#276419"
            ]
           ],
           "sequential": [
            [
             0,
             "#0d0887"
            ],
            [
             0.1111111111111111,
             "#46039f"
            ],
            [
             0.2222222222222222,
             "#7201a8"
            ],
            [
             0.3333333333333333,
             "#9c179e"
            ],
            [
             0.4444444444444444,
             "#bd3786"
            ],
            [
             0.5555555555555556,
             "#d8576b"
            ],
            [
             0.6666666666666666,
             "#ed7953"
            ],
            [
             0.7777777777777778,
             "#fb9f3a"
            ],
            [
             0.8888888888888888,
             "#fdca26"
            ],
            [
             1,
             "#f0f921"
            ]
           ],
           "sequentialminus": [
            [
             0,
             "#0d0887"
            ],
            [
             0.1111111111111111,
             "#46039f"
            ],
            [
             0.2222222222222222,
             "#7201a8"
            ],
            [
             0.3333333333333333,
             "#9c179e"
            ],
            [
             0.4444444444444444,
             "#bd3786"
            ],
            [
             0.5555555555555556,
             "#d8576b"
            ],
            [
             0.6666666666666666,
             "#ed7953"
            ],
            [
             0.7777777777777778,
             "#fb9f3a"
            ],
            [
             0.8888888888888888,
             "#fdca26"
            ],
            [
             1,
             "#f0f921"
            ]
           ]
          },
          "colorway": [
           "#636efa",
           "#EF553B",
           "#00cc96",
           "#ab63fa",
           "#FFA15A",
           "#19d3f3",
           "#FF6692",
           "#B6E880",
           "#FF97FF",
           "#FECB52"
          ],
          "font": {
           "color": "#2a3f5f"
          },
          "geo": {
           "bgcolor": "white",
           "lakecolor": "white",
           "landcolor": "#E5ECF6",
           "showlakes": true,
           "showland": true,
           "subunitcolor": "white"
          },
          "hoverlabel": {
           "align": "left"
          },
          "hovermode": "closest",
          "mapbox": {
           "style": "light"
          },
          "paper_bgcolor": "white",
          "plot_bgcolor": "#E5ECF6",
          "polar": {
           "angularaxis": {
            "gridcolor": "white",
            "linecolor": "white",
            "ticks": ""
           },
           "bgcolor": "#E5ECF6",
           "radialaxis": {
            "gridcolor": "white",
            "linecolor": "white",
            "ticks": ""
           }
          },
          "scene": {
           "xaxis": {
            "backgroundcolor": "#E5ECF6",
            "gridcolor": "white",
            "gridwidth": 2,
            "linecolor": "white",
            "showbackground": true,
            "ticks": "",
            "zerolinecolor": "white"
           },
           "yaxis": {
            "backgroundcolor": "#E5ECF6",
            "gridcolor": "white",
            "gridwidth": 2,
            "linecolor": "white",
            "showbackground": true,
            "ticks": "",
            "zerolinecolor": "white"
           },
           "zaxis": {
            "backgroundcolor": "#E5ECF6",
            "gridcolor": "white",
            "gridwidth": 2,
            "linecolor": "white",
            "showbackground": true,
            "ticks": "",
            "zerolinecolor": "white"
           }
          },
          "shapedefaults": {
           "line": {
            "color": "#2a3f5f"
           }
          },
          "ternary": {
           "aaxis": {
            "gridcolor": "white",
            "linecolor": "white",
            "ticks": ""
           },
           "baxis": {
            "gridcolor": "white",
            "linecolor": "white",
            "ticks": ""
           },
           "bgcolor": "#E5ECF6",
           "caxis": {
            "gridcolor": "white",
            "linecolor": "white",
            "ticks": ""
           }
          },
          "title": {
           "x": 0.05
          },
          "xaxis": {
           "automargin": true,
           "gridcolor": "white",
           "linecolor": "white",
           "ticks": "",
           "title": {
            "standoff": 15
           },
           "zerolinecolor": "white",
           "zerolinewidth": 2
          },
          "yaxis": {
           "automargin": true,
           "gridcolor": "white",
           "linecolor": "white",
           "ticks": "",
           "title": {
            "standoff": 15
           },
           "zerolinecolor": "white",
           "zerolinewidth": 2
          }
         }
        },
        "title": {
         "font": {
          "size": 24
         },
         "text": "Sales Analysis by Category"
        }
       }
      }
     },
     "metadata": {},
     "output_type": "display_data"
    }
   ],
   "source": [
    "sales_by_category = products.groupby('category')['profit'].sum().reset_index()\n",
    "\n",
    "\n",
    "fig = px.pie(sales_by_category, \n",
    "             values='profit', \n",
    "             names='category', \n",
    "             hole=0.5, \n",
    "             color_discrete_sequence=px.colors.qualitative.Pastel)\n",
    "\n",
    "fig.update_traces(textposition='inside', textinfo='percent+label')\n",
    "fig.update_layout(title_text='Sales Analysis by Category', title_font=dict(size=24))\n",
    "\n",
    "fig.show()"
   ]
  },
  {
   "cell_type": "code",
   "execution_count": 76,
   "metadata": {},
   "outputs": [
    {
     "data": {
      "application/vnd.plotly.v1+json": {
       "config": {
        "plotlyServerURL": "https://plot.ly"
       },
       "data": [
        {
         "hovertemplate": "Month=%{x}<br>profit=%{y}<extra></extra>",
         "legendgroup": "",
         "line": {
          "color": "#636efa",
          "dash": "solid"
         },
         "marker": {
          "symbol": "circle"
         },
         "mode": "lines",
         "name": "",
         "orientation": "v",
         "showlegend": false,
         "type": "scatter",
         "x": [
          1,
          2,
          3,
          4,
          5,
          6,
          7,
          8,
          9,
          10,
          11,
          12
         ],
         "xaxis": "x",
         "y": [
          1222409.1686,
          1222190.9215,
          1162790.6981,
          1188509.5762,
          1196031.8055,
          1191591.8801,
          1178476.7147,
          1172732.2341,
          1559085.1972,
          1547925.6361,
          1550264.6998,
          1540320.933
         ],
         "yaxis": "y"
        }
       ],
       "layout": {
        "legend": {
         "tracegroupgap": 0
        },
        "template": {
         "data": {
          "bar": [
           {
            "error_x": {
             "color": "#2a3f5f"
            },
            "error_y": {
             "color": "#2a3f5f"
            },
            "marker": {
             "line": {
              "color": "#E5ECF6",
              "width": 0.5
             },
             "pattern": {
              "fillmode": "overlay",
              "size": 10,
              "solidity": 0.2
             }
            },
            "type": "bar"
           }
          ],
          "barpolar": [
           {
            "marker": {
             "line": {
              "color": "#E5ECF6",
              "width": 0.5
             },
             "pattern": {
              "fillmode": "overlay",
              "size": 10,
              "solidity": 0.2
             }
            },
            "type": "barpolar"
           }
          ],
          "carpet": [
           {
            "aaxis": {
             "endlinecolor": "#2a3f5f",
             "gridcolor": "white",
             "linecolor": "white",
             "minorgridcolor": "white",
             "startlinecolor": "#2a3f5f"
            },
            "baxis": {
             "endlinecolor": "#2a3f5f",
             "gridcolor": "white",
             "linecolor": "white",
             "minorgridcolor": "white",
             "startlinecolor": "#2a3f5f"
            },
            "type": "carpet"
           }
          ],
          "choropleth": [
           {
            "colorbar": {
             "outlinewidth": 0,
             "ticks": ""
            },
            "type": "choropleth"
           }
          ],
          "contour": [
           {
            "colorbar": {
             "outlinewidth": 0,
             "ticks": ""
            },
            "colorscale": [
             [
              0,
              "#0d0887"
             ],
             [
              0.1111111111111111,
              "#46039f"
             ],
             [
              0.2222222222222222,
              "#7201a8"
             ],
             [
              0.3333333333333333,
              "#9c179e"
             ],
             [
              0.4444444444444444,
              "#bd3786"
             ],
             [
              0.5555555555555556,
              "#d8576b"
             ],
             [
              0.6666666666666666,
              "#ed7953"
             ],
             [
              0.7777777777777778,
              "#fb9f3a"
             ],
             [
              0.8888888888888888,
              "#fdca26"
             ],
             [
              1,
              "#f0f921"
             ]
            ],
            "type": "contour"
           }
          ],
          "contourcarpet": [
           {
            "colorbar": {
             "outlinewidth": 0,
             "ticks": ""
            },
            "type": "contourcarpet"
           }
          ],
          "heatmap": [
           {
            "colorbar": {
             "outlinewidth": 0,
             "ticks": ""
            },
            "colorscale": [
             [
              0,
              "#0d0887"
             ],
             [
              0.1111111111111111,
              "#46039f"
             ],
             [
              0.2222222222222222,
              "#7201a8"
             ],
             [
              0.3333333333333333,
              "#9c179e"
             ],
             [
              0.4444444444444444,
              "#bd3786"
             ],
             [
              0.5555555555555556,
              "#d8576b"
             ],
             [
              0.6666666666666666,
              "#ed7953"
             ],
             [
              0.7777777777777778,
              "#fb9f3a"
             ],
             [
              0.8888888888888888,
              "#fdca26"
             ],
             [
              1,
              "#f0f921"
             ]
            ],
            "type": "heatmap"
           }
          ],
          "heatmapgl": [
           {
            "colorbar": {
             "outlinewidth": 0,
             "ticks": ""
            },
            "colorscale": [
             [
              0,
              "#0d0887"
             ],
             [
              0.1111111111111111,
              "#46039f"
             ],
             [
              0.2222222222222222,
              "#7201a8"
             ],
             [
              0.3333333333333333,
              "#9c179e"
             ],
             [
              0.4444444444444444,
              "#bd3786"
             ],
             [
              0.5555555555555556,
              "#d8576b"
             ],
             [
              0.6666666666666666,
              "#ed7953"
             ],
             [
              0.7777777777777778,
              "#fb9f3a"
             ],
             [
              0.8888888888888888,
              "#fdca26"
             ],
             [
              1,
              "#f0f921"
             ]
            ],
            "type": "heatmapgl"
           }
          ],
          "histogram": [
           {
            "marker": {
             "pattern": {
              "fillmode": "overlay",
              "size": 10,
              "solidity": 0.2
             }
            },
            "type": "histogram"
           }
          ],
          "histogram2d": [
           {
            "colorbar": {
             "outlinewidth": 0,
             "ticks": ""
            },
            "colorscale": [
             [
              0,
              "#0d0887"
             ],
             [
              0.1111111111111111,
              "#46039f"
             ],
             [
              0.2222222222222222,
              "#7201a8"
             ],
             [
              0.3333333333333333,
              "#9c179e"
             ],
             [
              0.4444444444444444,
              "#bd3786"
             ],
             [
              0.5555555555555556,
              "#d8576b"
             ],
             [
              0.6666666666666666,
              "#ed7953"
             ],
             [
              0.7777777777777778,
              "#fb9f3a"
             ],
             [
              0.8888888888888888,
              "#fdca26"
             ],
             [
              1,
              "#f0f921"
             ]
            ],
            "type": "histogram2d"
           }
          ],
          "histogram2dcontour": [
           {
            "colorbar": {
             "outlinewidth": 0,
             "ticks": ""
            },
            "colorscale": [
             [
              0,
              "#0d0887"
             ],
             [
              0.1111111111111111,
              "#46039f"
             ],
             [
              0.2222222222222222,
              "#7201a8"
             ],
             [
              0.3333333333333333,
              "#9c179e"
             ],
             [
              0.4444444444444444,
              "#bd3786"
             ],
             [
              0.5555555555555556,
              "#d8576b"
             ],
             [
              0.6666666666666666,
              "#ed7953"
             ],
             [
              0.7777777777777778,
              "#fb9f3a"
             ],
             [
              0.8888888888888888,
              "#fdca26"
             ],
             [
              1,
              "#f0f921"
             ]
            ],
            "type": "histogram2dcontour"
           }
          ],
          "mesh3d": [
           {
            "colorbar": {
             "outlinewidth": 0,
             "ticks": ""
            },
            "type": "mesh3d"
           }
          ],
          "parcoords": [
           {
            "line": {
             "colorbar": {
              "outlinewidth": 0,
              "ticks": ""
             }
            },
            "type": "parcoords"
           }
          ],
          "pie": [
           {
            "automargin": true,
            "type": "pie"
           }
          ],
          "scatter": [
           {
            "fillpattern": {
             "fillmode": "overlay",
             "size": 10,
             "solidity": 0.2
            },
            "type": "scatter"
           }
          ],
          "scatter3d": [
           {
            "line": {
             "colorbar": {
              "outlinewidth": 0,
              "ticks": ""
             }
            },
            "marker": {
             "colorbar": {
              "outlinewidth": 0,
              "ticks": ""
             }
            },
            "type": "scatter3d"
           }
          ],
          "scattercarpet": [
           {
            "marker": {
             "colorbar": {
              "outlinewidth": 0,
              "ticks": ""
             }
            },
            "type": "scattercarpet"
           }
          ],
          "scattergeo": [
           {
            "marker": {
             "colorbar": {
              "outlinewidth": 0,
              "ticks": ""
             }
            },
            "type": "scattergeo"
           }
          ],
          "scattergl": [
           {
            "marker": {
             "colorbar": {
              "outlinewidth": 0,
              "ticks": ""
             }
            },
            "type": "scattergl"
           }
          ],
          "scattermapbox": [
           {
            "marker": {
             "colorbar": {
              "outlinewidth": 0,
              "ticks": ""
             }
            },
            "type": "scattermapbox"
           }
          ],
          "scatterpolar": [
           {
            "marker": {
             "colorbar": {
              "outlinewidth": 0,
              "ticks": ""
             }
            },
            "type": "scatterpolar"
           }
          ],
          "scatterpolargl": [
           {
            "marker": {
             "colorbar": {
              "outlinewidth": 0,
              "ticks": ""
             }
            },
            "type": "scatterpolargl"
           }
          ],
          "scatterternary": [
           {
            "marker": {
             "colorbar": {
              "outlinewidth": 0,
              "ticks": ""
             }
            },
            "type": "scatterternary"
           }
          ],
          "surface": [
           {
            "colorbar": {
             "outlinewidth": 0,
             "ticks": ""
            },
            "colorscale": [
             [
              0,
              "#0d0887"
             ],
             [
              0.1111111111111111,
              "#46039f"
             ],
             [
              0.2222222222222222,
              "#7201a8"
             ],
             [
              0.3333333333333333,
              "#9c179e"
             ],
             [
              0.4444444444444444,
              "#bd3786"
             ],
             [
              0.5555555555555556,
              "#d8576b"
             ],
             [
              0.6666666666666666,
              "#ed7953"
             ],
             [
              0.7777777777777778,
              "#fb9f3a"
             ],
             [
              0.8888888888888888,
              "#fdca26"
             ],
             [
              1,
              "#f0f921"
             ]
            ],
            "type": "surface"
           }
          ],
          "table": [
           {
            "cells": {
             "fill": {
              "color": "#EBF0F8"
             },
             "line": {
              "color": "white"
             }
            },
            "header": {
             "fill": {
              "color": "#C8D4E3"
             },
             "line": {
              "color": "white"
             }
            },
            "type": "table"
           }
          ]
         },
         "layout": {
          "annotationdefaults": {
           "arrowcolor": "#2a3f5f",
           "arrowhead": 0,
           "arrowwidth": 1
          },
          "autotypenumbers": "strict",
          "coloraxis": {
           "colorbar": {
            "outlinewidth": 0,
            "ticks": ""
           }
          },
          "colorscale": {
           "diverging": [
            [
             0,
             "#8e0152"
            ],
            [
             0.1,
             "#c51b7d"
            ],
            [
             0.2,
             "#de77ae"
            ],
            [
             0.3,
             "#f1b6da"
            ],
            [
             0.4,
             "#fde0ef"
            ],
            [
             0.5,
             "#f7f7f7"
            ],
            [
             0.6,
             "#e6f5d0"
            ],
            [
             0.7,
             "#b8e186"
            ],
            [
             0.8,
             "#7fbc41"
            ],
            [
             0.9,
             "#4d9221"
            ],
            [
             1,
             "#276419"
            ]
           ],
           "sequential": [
            [
             0,
             "#0d0887"
            ],
            [
             0.1111111111111111,
             "#46039f"
            ],
            [
             0.2222222222222222,
             "#7201a8"
            ],
            [
             0.3333333333333333,
             "#9c179e"
            ],
            [
             0.4444444444444444,
             "#bd3786"
            ],
            [
             0.5555555555555556,
             "#d8576b"
            ],
            [
             0.6666666666666666,
             "#ed7953"
            ],
            [
             0.7777777777777778,
             "#fb9f3a"
            ],
            [
             0.8888888888888888,
             "#fdca26"
            ],
            [
             1,
             "#f0f921"
            ]
           ],
           "sequentialminus": [
            [
             0,
             "#0d0887"
            ],
            [
             0.1111111111111111,
             "#46039f"
            ],
            [
             0.2222222222222222,
             "#7201a8"
            ],
            [
             0.3333333333333333,
             "#9c179e"
            ],
            [
             0.4444444444444444,
             "#bd3786"
            ],
            [
             0.5555555555555556,
             "#d8576b"
            ],
            [
             0.6666666666666666,
             "#ed7953"
            ],
            [
             0.7777777777777778,
             "#fb9f3a"
            ],
            [
             0.8888888888888888,
             "#fdca26"
            ],
            [
             1,
             "#f0f921"
            ]
           ]
          },
          "colorway": [
           "#636efa",
           "#EF553B",
           "#00cc96",
           "#ab63fa",
           "#FFA15A",
           "#19d3f3",
           "#FF6692",
           "#B6E880",
           "#FF97FF",
           "#FECB52"
          ],
          "font": {
           "color": "#2a3f5f"
          },
          "geo": {
           "bgcolor": "white",
           "lakecolor": "white",
           "landcolor": "#E5ECF6",
           "showlakes": true,
           "showland": true,
           "subunitcolor": "white"
          },
          "hoverlabel": {
           "align": "left"
          },
          "hovermode": "closest",
          "mapbox": {
           "style": "light"
          },
          "paper_bgcolor": "white",
          "plot_bgcolor": "#E5ECF6",
          "polar": {
           "angularaxis": {
            "gridcolor": "white",
            "linecolor": "white",
            "ticks": ""
           },
           "bgcolor": "#E5ECF6",
           "radialaxis": {
            "gridcolor": "white",
            "linecolor": "white",
            "ticks": ""
           }
          },
          "scene": {
           "xaxis": {
            "backgroundcolor": "#E5ECF6",
            "gridcolor": "white",
            "gridwidth": 2,
            "linecolor": "white",
            "showbackground": true,
            "ticks": "",
            "zerolinecolor": "white"
           },
           "yaxis": {
            "backgroundcolor": "#E5ECF6",
            "gridcolor": "white",
            "gridwidth": 2,
            "linecolor": "white",
            "showbackground": true,
            "ticks": "",
            "zerolinecolor": "white"
           },
           "zaxis": {
            "backgroundcolor": "#E5ECF6",
            "gridcolor": "white",
            "gridwidth": 2,
            "linecolor": "white",
            "showbackground": true,
            "ticks": "",
            "zerolinecolor": "white"
           }
          },
          "shapedefaults": {
           "line": {
            "color": "#2a3f5f"
           }
          },
          "ternary": {
           "aaxis": {
            "gridcolor": "white",
            "linecolor": "white",
            "ticks": ""
           },
           "baxis": {
            "gridcolor": "white",
            "linecolor": "white",
            "ticks": ""
           },
           "bgcolor": "#E5ECF6",
           "caxis": {
            "gridcolor": "white",
            "linecolor": "white",
            "ticks": ""
           }
          },
          "title": {
           "x": 0.05
          },
          "xaxis": {
           "automargin": true,
           "gridcolor": "white",
           "linecolor": "white",
           "ticks": "",
           "title": {
            "standoff": 15
           },
           "zerolinecolor": "white",
           "zerolinewidth": 2
          },
          "yaxis": {
           "automargin": true,
           "gridcolor": "white",
           "linecolor": "white",
           "ticks": "",
           "title": {
            "standoff": 15
           },
           "zerolinecolor": "white",
           "zerolinewidth": 2
          }
         }
        },
        "title": {
         "text": "Monthly Profit Analysis"
        },
        "xaxis": {
         "anchor": "y",
         "domain": [
          0,
          1
         ],
         "title": {
          "text": "Month"
         }
        },
        "yaxis": {
         "anchor": "x",
         "domain": [
          0,
          1
         ],
         "title": {
          "text": "profit"
         }
        }
       }
      }
     },
     "metadata": {},
     "output_type": "display_data"
    }
   ],
   "source": [
    "profit_by_month = products.groupby('Month')['profit'].sum().reset_index()\n",
    "fig = px.line(profit_by_month, \n",
    "              x='Month', \n",
    "              y='profit', \n",
    "              title='Monthly Profit Analysis')\n",
    "fig.show()"
   ]
  },
  {
   "cell_type": "code",
   "execution_count": 77,
   "metadata": {},
   "outputs": [
    {
     "data": {
      "text/html": [
       "<div>\n",
       "<style scoped>\n",
       "    .dataframe tbody tr th:only-of-type {\n",
       "        vertical-align: middle;\n",
       "    }\n",
       "\n",
       "    .dataframe tbody tr th {\n",
       "        vertical-align: top;\n",
       "    }\n",
       "\n",
       "    .dataframe thead th {\n",
       "        text-align: right;\n",
       "    }\n",
       "</style>\n",
       "<table border=\"1\" class=\"dataframe\">\n",
       "  <thead>\n",
       "    <tr style=\"text-align: right;\">\n",
       "      <th></th>\n",
       "      <th>profit</th>\n",
       "    </tr>\n",
       "    <tr>\n",
       "      <th>date</th>\n",
       "      <th></th>\n",
       "    </tr>\n",
       "  </thead>\n",
       "  <tbody>\n",
       "    <tr>\n",
       "      <th>2017</th>\n",
       "      <td>6.147471e+05</td>\n",
       "    </tr>\n",
       "    <tr>\n",
       "      <th>2018</th>\n",
       "      <td>2.382110e+06</td>\n",
       "    </tr>\n",
       "    <tr>\n",
       "      <th>2019</th>\n",
       "      <td>3.852431e+06</td>\n",
       "    </tr>\n",
       "    <tr>\n",
       "      <th>2020</th>\n",
       "      <td>4.512615e+06</td>\n",
       "    </tr>\n",
       "    <tr>\n",
       "      <th>2021</th>\n",
       "      <td>4.370426e+06</td>\n",
       "    </tr>\n",
       "  </tbody>\n",
       "</table>\n",
       "</div>"
      ],
      "text/plain": [
       "            profit\n",
       "date              \n",
       "2017  6.147471e+05\n",
       "2018  2.382110e+06\n",
       "2019  3.852431e+06\n",
       "2020  4.512615e+06\n",
       "2021  4.370426e+06"
      ]
     },
     "execution_count": 77,
     "metadata": {},
     "output_type": "execute_result"
    }
   ],
   "source": [
    "changes = pd.DataFrame(products.groupby([products.date.dt.year])['profit'].sum())\n",
    "changes"
   ]
  },
  {
   "cell_type": "code",
   "execution_count": 78,
   "metadata": {},
   "outputs": [
    {
     "data": {
      "text/plain": [
       "<AxesSubplot:xlabel='date'>"
      ]
     },
     "execution_count": 78,
     "metadata": {},
     "output_type": "execute_result"
    },
    {
     "data": {
      "image/png": "[encoded data removed]",
      "text/plain": [
       "<Figure size 640x480 with 1 Axes>"
      ]
     },
     "metadata": {},
     "output_type": "display_data"
    }
   ],
   "source": [
    "changes.sort_values('date').plot(kind='bar')"
   ]
  },
  {
   "cell_type": "markdown",
   "metadata": {},
   "source": [
    "# Conclusion/Recommendation:\n",
    "\n",
    "\n",
    "Top products from the company are: \n",
    "\n",
    "1. AQ Dracula HDD - 3.5 Inch SATA 6 Gb/s 54400 RPM 256 MB Cache\n",
    "2. AQ WereWolf NAS Internal Hard Drive HDD - 8.89 cm\n",
    "3. AQ MForce Gen X\n",
    "\n",
    "\n",
    "To improve sales the company can look into:\n",
    "\n",
    "Investing more ad revenue during the best months for sales, which are September, October and November and December, to maximize profits for the top products. AQ Zion Saga is the worst selling project, across the different years it did not perform very well, although this is the product the has the least marketing cost as well.\n",
    "\n",
    "\n",
    "Rise in profit during the year 2019 with a steady increase in later years, the best year for profit was 2020. \n",
    "\n",
    "Top product, AQ Dracula HDD - 3.5 Inch SATA 6 Gb/s 54400 RPM 256 MB Cache, has a steady increase from 2017 to 2020 with a slight dip during 2021. \n",
    "\n",
    "AQ WereWolf NAS Internal Hard Drive HDD - 8.89 cm had an increase in profit from 2017 to 2019, but then had a dip afterwards, signaling that sales for this product are trending downwards, which could mean that this product is not the best investment for the future of the company. \n",
    "\n",
    "AQ MForce Gen X sales started in 2018, and has had a steady increase into 2021, signaling that this product is a good investment into the future of the company. \n",
    "\n",
    "AQ Zion Saga sales started in the year 2019 and has seen a steady increase into 2021, also signaling that this product could be a good investment into the future of the company. \n",
    "\n",
    "\n"
   ]
  },
  {
   "cell_type": "code",
   "execution_count": 85,
   "metadata": {},
   "outputs": [],
   "source": [
    "products.to_csv(\"products.csv\",index=False)"
   ]
  },
  {
   "cell_type": "markdown",
   "metadata": {},
   "source": [
    "LINK TO TABLEAU DASHBOARD:\n",
    "\n",
    "https://public.tableau.com/views/Final_Project_16886144771230/ProductAnalysis?:language=en-US&:display_count=n&:origin=viz_share_link\n",
    "\n",
    "https://public.tableau.com/app/profile/jose8079/viz/Final_Project_16886144771230/ProductAnalysis"
   ]
  },
  {
   "cell_type": "code",
   "execution_count": null,
   "metadata": {},
   "outputs": [],
   "source": []
  }
 ],
 "metadata": {
  "kernelspec": {
   "display_name": "Python 3 (ipykernel)",
   "language": "python",
   "name": "python3"
  },
  "language_info": {
   "codemirror_mode": {
    "name": "ipython",
    "version": 3
   },
   "file_extension": ".py",
   "mimetype": "text/x-python",
   "name": "python",
   "nbconvert_exporter": "python",
   "pygments_lexer": "ipython3",
   "version": "3.9.5"
  },
  "toc": {
   "base_numbering": 1,
   "nav_menu": {},
   "number_sections": true,
   "sideBar": true,
   "skip_h1_title": true,
   "title_cell": "Table of Contents",
   "title_sidebar": "Contents",
   "toc_cell": false,
   "toc_position": {},
   "toc_section_display": true,
   "toc_window_display": false
  }
 },
 "nbformat": 4,
 "nbformat_minor": 2
}
